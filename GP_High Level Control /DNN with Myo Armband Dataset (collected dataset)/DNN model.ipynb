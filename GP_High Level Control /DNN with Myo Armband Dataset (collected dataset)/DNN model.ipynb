{
 "cells": [
  {
   "cell_type": "code",
   "execution_count": 1,
   "metadata": {},
   "outputs": [],
   "source": [
    "import tensorflow as tf\n",
    "import sklearn\n",
    "import numpy as np\n",
    "import pandas as pd\n",
    "\n",
    "import matplotlib.pyplot as plt\n"
   ]
  },
  {
   "cell_type": "code",
   "execution_count": 2,
   "metadata": {},
   "outputs": [
    {
     "data": {
      "text/html": [
       "<div>\n",
       "<style scoped>\n",
       "    .dataframe tbody tr th:only-of-type {\n",
       "        vertical-align: middle;\n",
       "    }\n",
       "\n",
       "    .dataframe tbody tr th {\n",
       "        vertical-align: top;\n",
       "    }\n",
       "\n",
       "    .dataframe thead th {\n",
       "        text-align: right;\n",
       "    }\n",
       "</style>\n",
       "<table border=\"1\" class=\"dataframe\">\n",
       "  <thead>\n",
       "    <tr style=\"text-align: right;\">\n",
       "      <th></th>\n",
       "      <th>Channel_1</th>\n",
       "      <th>Channel_2</th>\n",
       "      <th>Channel_3</th>\n",
       "      <th>Channel_4</th>\n",
       "      <th>Channel_5</th>\n",
       "      <th>Channel_6</th>\n",
       "      <th>Channel_7</th>\n",
       "      <th>Channel_8</th>\n",
       "      <th>Class</th>\n",
       "    </tr>\n",
       "  </thead>\n",
       "  <tbody>\n",
       "    <tr>\n",
       "      <th>0</th>\n",
       "      <td>62</td>\n",
       "      <td>205</td>\n",
       "      <td>164</td>\n",
       "      <td>199</td>\n",
       "      <td>158</td>\n",
       "      <td>46</td>\n",
       "      <td>24</td>\n",
       "      <td>22</td>\n",
       "      <td>0</td>\n",
       "    </tr>\n",
       "    <tr>\n",
       "      <th>1</th>\n",
       "      <td>70</td>\n",
       "      <td>251</td>\n",
       "      <td>177</td>\n",
       "      <td>208</td>\n",
       "      <td>158</td>\n",
       "      <td>48</td>\n",
       "      <td>25</td>\n",
       "      <td>25</td>\n",
       "      <td>0</td>\n",
       "    </tr>\n",
       "    <tr>\n",
       "      <th>2</th>\n",
       "      <td>66</td>\n",
       "      <td>249</td>\n",
       "      <td>174</td>\n",
       "      <td>179</td>\n",
       "      <td>140</td>\n",
       "      <td>47</td>\n",
       "      <td>24</td>\n",
       "      <td>26</td>\n",
       "      <td>0</td>\n",
       "    </tr>\n",
       "    <tr>\n",
       "      <th>3</th>\n",
       "      <td>75</td>\n",
       "      <td>235</td>\n",
       "      <td>177</td>\n",
       "      <td>190</td>\n",
       "      <td>135</td>\n",
       "      <td>51</td>\n",
       "      <td>25</td>\n",
       "      <td>28</td>\n",
       "      <td>0</td>\n",
       "    </tr>\n",
       "    <tr>\n",
       "      <th>4</th>\n",
       "      <td>70</td>\n",
       "      <td>221</td>\n",
       "      <td>200</td>\n",
       "      <td>177</td>\n",
       "      <td>118</td>\n",
       "      <td>46</td>\n",
       "      <td>23</td>\n",
       "      <td>27</td>\n",
       "      <td>0</td>\n",
       "    </tr>\n",
       "  </tbody>\n",
       "</table>\n",
       "</div>"
      ],
      "text/plain": [
       "   Channel_1  Channel_2  Channel_3  Channel_4  Channel_5  Channel_6  \\\n",
       "0         62        205        164        199        158         46   \n",
       "1         70        251        177        208        158         48   \n",
       "2         66        249        174        179        140         47   \n",
       "3         75        235        177        190        135         51   \n",
       "4         70        221        200        177        118         46   \n",
       "\n",
       "   Channel_7  Channel_8  Class  \n",
       "0         24         22      0  \n",
       "1         25         25      0  \n",
       "2         24         26      0  \n",
       "3         25         28      0  \n",
       "4         23         27      0  "
      ]
     },
     "execution_count": 2,
     "metadata": {},
     "output_type": "execute_result"
    }
   ],
   "source": [
    "df=pd.read_csv(\"8_Channels_MyoArmband_DNN_DATA_10poses.csv\")\n",
    "df.head()"
   ]
  },
  {
   "cell_type": "code",
   "execution_count": 3,
   "metadata": {},
   "outputs": [
    {
     "data": {
      "text/html": [
       "<div>\n",
       "<style scoped>\n",
       "    .dataframe tbody tr th:only-of-type {\n",
       "        vertical-align: middle;\n",
       "    }\n",
       "\n",
       "    .dataframe tbody tr th {\n",
       "        vertical-align: top;\n",
       "    }\n",
       "\n",
       "    .dataframe thead th {\n",
       "        text-align: right;\n",
       "    }\n",
       "</style>\n",
       "<table border=\"1\" class=\"dataframe\">\n",
       "  <thead>\n",
       "    <tr style=\"text-align: right;\">\n",
       "      <th></th>\n",
       "      <th>Channel_1</th>\n",
       "      <th>Channel_2</th>\n",
       "      <th>Channel_3</th>\n",
       "      <th>Channel_4</th>\n",
       "      <th>Channel_5</th>\n",
       "      <th>Channel_6</th>\n",
       "      <th>Channel_7</th>\n",
       "      <th>Channel_8</th>\n",
       "      <th>Class</th>\n",
       "    </tr>\n",
       "  </thead>\n",
       "  <tbody>\n",
       "    <tr>\n",
       "      <th>310244</th>\n",
       "      <td>49</td>\n",
       "      <td>114</td>\n",
       "      <td>415</td>\n",
       "      <td>139</td>\n",
       "      <td>52</td>\n",
       "      <td>52</td>\n",
       "      <td>43</td>\n",
       "      <td>73</td>\n",
       "      <td>6</td>\n",
       "    </tr>\n",
       "    <tr>\n",
       "      <th>189617</th>\n",
       "      <td>125</td>\n",
       "      <td>122</td>\n",
       "      <td>260</td>\n",
       "      <td>152</td>\n",
       "      <td>148</td>\n",
       "      <td>130</td>\n",
       "      <td>107</td>\n",
       "      <td>79</td>\n",
       "      <td>3</td>\n",
       "    </tr>\n",
       "    <tr>\n",
       "      <th>197459</th>\n",
       "      <td>104</td>\n",
       "      <td>121</td>\n",
       "      <td>332</td>\n",
       "      <td>116</td>\n",
       "      <td>90</td>\n",
       "      <td>65</td>\n",
       "      <td>74</td>\n",
       "      <td>66</td>\n",
       "      <td>3</td>\n",
       "    </tr>\n",
       "    <tr>\n",
       "      <th>106617</th>\n",
       "      <td>131</td>\n",
       "      <td>100</td>\n",
       "      <td>193</td>\n",
       "      <td>69</td>\n",
       "      <td>389</td>\n",
       "      <td>360</td>\n",
       "      <td>61</td>\n",
       "      <td>35</td>\n",
       "      <td>2</td>\n",
       "    </tr>\n",
       "    <tr>\n",
       "      <th>255829</th>\n",
       "      <td>47</td>\n",
       "      <td>207</td>\n",
       "      <td>354</td>\n",
       "      <td>201</td>\n",
       "      <td>90</td>\n",
       "      <td>52</td>\n",
       "      <td>47</td>\n",
       "      <td>37</td>\n",
       "      <td>5</td>\n",
       "    </tr>\n",
       "  </tbody>\n",
       "</table>\n",
       "</div>"
      ],
      "text/plain": [
       "        Channel_1  Channel_2  Channel_3  Channel_4  Channel_5  Channel_6  \\\n",
       "310244         49        114        415        139         52         52   \n",
       "189617        125        122        260        152        148        130   \n",
       "197459        104        121        332        116         90         65   \n",
       "106617        131        100        193         69        389        360   \n",
       "255829         47        207        354        201         90         52   \n",
       "\n",
       "        Channel_7  Channel_8  Class  \n",
       "310244         43         73      6  \n",
       "189617        107         79      3  \n",
       "197459         74         66      3  \n",
       "106617         61         35      2  \n",
       "255829         47         37      5  "
      ]
     },
     "execution_count": 3,
     "metadata": {},
     "output_type": "execute_result"
    }
   ],
   "source": [
    "df1=sklearn.utils.shuffle(df)\n",
    "df1.head()"
   ]
  },
  {
   "cell_type": "code",
   "execution_count": 4,
   "metadata": {},
   "outputs": [
    {
     "name": "stdout",
     "output_type": "stream",
     "text": [
      "<class 'pandas.core.frame.DataFrame'>\n",
      "Int64Index: 436197 entries, 310244 to 146285\n",
      "Data columns (total 9 columns):\n",
      " #   Column     Non-Null Count   Dtype\n",
      "---  ------     --------------   -----\n",
      " 0   Channel_1  436197 non-null  int64\n",
      " 1   Channel_2  436197 non-null  int64\n",
      " 2   Channel_3  436197 non-null  int64\n",
      " 3   Channel_4  436197 non-null  int64\n",
      " 4   Channel_5  436197 non-null  int64\n",
      " 5   Channel_6  436197 non-null  int64\n",
      " 6   Channel_7  436197 non-null  int64\n",
      " 7   Channel_8  436197 non-null  int64\n",
      " 8   Class      436197 non-null  int64\n",
      "dtypes: int64(9)\n",
      "memory usage: 33.3 MB\n"
     ]
    }
   ],
   "source": [
    "df1.info()"
   ]
  },
  {
   "cell_type": "code",
   "execution_count": 5,
   "metadata": {},
   "outputs": [
    {
     "data": {
      "text/plain": [
       "array([6, 3, 3, ..., 7, 6, 4])"
      ]
     },
     "execution_count": 5,
     "metadata": {},
     "output_type": "execute_result"
    }
   ],
   "source": [
    "X=df1.drop(\"Class\",axis=1).values\n",
    "Y=df1[\"Class\"].values\n",
    "X_train=X[:-25000]\n",
    "Y_train=Y[:-25000]\n",
    "X_test=X[-25000:]\n",
    "Y_test=Y[-25000:]\n",
    "X_train\n",
    "Y_train"
   ]
  },
  {
   "cell_type": "code",
   "execution_count": 6,
   "metadata": {},
   "outputs": [
    {
     "data": {
      "text/plain": [
       "array([[0.10458036, 0.24330941, 0.88573162, ..., 0.11098324, 0.0917746 ,\n",
       "        0.15580339],\n",
       "       [0.29652256, 0.28940602, 0.61676693, ..., 0.30838347, 0.25382331,\n",
       "        0.18740226],\n",
       "       [0.25128251, 0.29235754, 0.80217109, ..., 0.15705157, 0.17879717,\n",
       "        0.15946775],\n",
       "       ...,\n",
       "       [0.50796759, 0.43589111, 0.47707767, ..., 0.16474625, 0.29173814,\n",
       "        0.28487372],\n",
       "       [0.08874119, 0.3563093 , 0.10084226, ..., 0.59429703, 0.04302603,\n",
       "        0.03092496],\n",
       "       [0.43348369, 0.57228389, 0.49754532, ..., 0.13666481, 0.15161252,\n",
       "        0.26265268]])"
      ]
     },
     "execution_count": 6,
     "metadata": {},
     "output_type": "execute_result"
    }
   ],
   "source": [
    "X_train=tf.keras.utils.normalize(X_train,axis=1)\n",
    "X_test=tf.keras.utils.normalize(X_test,axis=1)\n",
    "X_train"
   ]
  },
  {
   "cell_type": "code",
   "execution_count": 7,
   "metadata": {},
   "outputs": [
    {
     "name": "stdout",
     "output_type": "stream",
     "text": [
      "(411197, 8) (411197,)\n"
     ]
    }
   ],
   "source": [
    "print(X_train.shape,Y_train.shape)"
   ]
  },
  {
   "cell_type": "code",
   "execution_count": 8,
   "metadata": {},
   "outputs": [
    {
     "data": {
      "text/plain": [
       "array([0, 1, 2, 3, 4, 5, 6, 7, 8, 9])"
      ]
     },
     "execution_count": 8,
     "metadata": {},
     "output_type": "execute_result"
    }
   ],
   "source": [
    "np.unique(Y_train)"
   ]
  },
  {
   "cell_type": "code",
   "execution_count": 14,
   "metadata": {},
   "outputs": [],
   "source": [
    "model =tf.keras.Sequential([\n",
    "    tf.keras.Input(shape=(8,)),  # input layer (1)\n",
    "    tf.keras.layers.Dense(128, activation='relu'), \n",
    "    tf.keras.layers.Dense(32, activation='relu'),# hidden layer (2)\n",
    "    tf.keras.layers.Dense(16, activation='relu'),# hidden layer (2)\n",
    "    tf.keras.layers.Dense(10, activation='softmax') # output layer (3)\n",
    "])"
   ]
  },
  {
   "cell_type": "code",
   "execution_count": 15,
   "metadata": {},
   "outputs": [],
   "source": [
    "model.compile(optimizer='adam',\n",
    "              loss='sparse_categorical_crossentropy',\n",
    "              metrics=['accuracy'])"
   ]
  },
  {
   "cell_type": "code",
   "execution_count": 16,
   "metadata": {
    "scrolled": true
   },
   "outputs": [
    {
     "name": "stdout",
     "output_type": "stream",
     "text": [
      "Model: \"sequential_1\"\n",
      "_________________________________________________________________\n",
      "Layer (type)                 Output Shape              Param #   \n",
      "=================================================================\n",
      "dense_4 (Dense)              (None, 128)               1152      \n",
      "_________________________________________________________________\n",
      "dense_5 (Dense)              (None, 32)                4128      \n",
      "_________________________________________________________________\n",
      "dense_6 (Dense)              (None, 16)                528       \n",
      "_________________________________________________________________\n",
      "dense_7 (Dense)              (None, 10)                170       \n",
      "=================================================================\n",
      "Total params: 5,978\n",
      "Trainable params: 5,978\n",
      "Non-trainable params: 0\n",
      "_________________________________________________________________\n"
     ]
    }
   ],
   "source": [
    "model.summary()"
   ]
  },
  {
   "cell_type": "code",
   "execution_count": 17,
   "metadata": {},
   "outputs": [
    {
     "data": {
      "image/png": "[encoded data removed]",
      "text/plain": [
       "<IPython.core.display.Image object>"
      ]
     },
     "execution_count": 17,
     "metadata": {},
     "output_type": "execute_result"
    }
   ],
   "source": [
    "dot_img_file = '/tmp/model_1.png'\n",
    "\n",
    "tf.keras.utils.plot_model(model, to_file=dot_img_file, show_shapes=True)"
   ]
  },
  {
   "cell_type": "code",
   "execution_count": 18,
   "metadata": {
    "scrolled": true
   },
   "outputs": [
    {
     "name": "stdout",
     "output_type": "stream",
     "text": [
      "Epoch 1/5\n",
      "12850/12850 [==============================] - 15s 1ms/step - loss: 1.0441 - accuracy: 0.6121 - val_loss: 0.5448 - val_accuracy: 0.8161\n",
      "Epoch 2/5\n",
      "12850/12850 [==============================] - 15s 1ms/step - loss: 0.5112 - accuracy: 0.8244 - val_loss: 0.4472 - val_accuracy: 0.8461\n",
      "Epoch 3/5\n",
      "12850/12850 [==============================] - 15s 1ms/step - loss: 0.4418 - accuracy: 0.8456 - val_loss: 0.4031 - val_accuracy: 0.8596\n",
      "Epoch 4/5\n",
      "12850/12850 [==============================] - 15s 1ms/step - loss: 0.4039 - accuracy: 0.8587 - val_loss: 0.3761 - val_accuracy: 0.8689\n",
      "Epoch 5/5\n",
      "12850/12850 [==============================] - 15s 1ms/step - loss: 0.3819 - accuracy: 0.8655 - val_loss: 0.3745 - val_accuracy: 0.8690\n"
     ]
    }
   ],
   "source": [
    "import os\n",
    "\n",
    "checkpoint_path = \"DNN_model/cp.ckpt\"\n",
    "checkpoint_dir = os.path.dirname(checkpoint_path)\n",
    "\n",
    "# Create a callback that saves the model's weights\n",
    "cp_callback = tf.keras.callbacks.ModelCheckpoint(filepath=checkpoint_path,\n",
    "                                                 save_weights_only=True,\n",
    "                                                 verbose=1)\n",
    "\n",
    "history = model.fit(X_train, Y_train,\n",
    "                    epochs = 5,\n",
    "                    validation_data=(X_test, Y_test))\n",
    "                    #callbacks=[cp_callback])\n"
   ]
  },
  {
   "cell_type": "code",
   "execution_count": 19,
   "metadata": {},
   "outputs": [
    {
     "data": {
      "text/plain": [
       "Text(0.5, 1.0, 'Training and validation loss')"
      ]
     },
     "execution_count": 19,
     "metadata": {},
     "output_type": "execute_result"
    },
    {
     "data": {
      "image/png": "[encoded data removed]",
      "text/plain": [
       "<Figure size 432x288 with 1 Axes>"
      ]
     },
     "metadata": {
      "needs_background": "light"
     },
     "output_type": "display_data"
    },
    {
     "data": {
      "image/png": "[encoded data removed]",
      "text/plain": [
       "<Figure size 432x288 with 1 Axes>"
      ]
     },
     "metadata": {
      "needs_background": "light"
     },
     "output_type": "display_data"
    }
   ],
   "source": [
    "# Retrieve a list of list results on training and test data\n",
    "# sets for each training epoch\n",
    "acc      = history.history[     'accuracy' ]\n",
    "val_acc  = history.history[ 'val_accuracy' ]\n",
    "loss     = history.history[    'loss' ]\n",
    "val_loss = history.history['val_loss' ]\n",
    "\n",
    "epochs   = range(len(acc)) # Get number of epochs\n",
    "\n",
    "# Plot training and validation accuracy per epoch\n",
    "plt.plot  ( epochs,     acc )\n",
    "plt.plot  ( epochs, val_acc )\n",
    "plt.title ('Training and validation accuracy')\n",
    "plt.figure()\n",
    "\n",
    "# Plot training and validation loss per epoch\n",
    "plt.plot  ( epochs,     loss )\n",
    "plt.plot  ( epochs, val_loss )\n",
    "plt.title ('Training and validation loss'   )"
   ]
  },
  {
   "cell_type": "code",
   "execution_count": 20,
   "metadata": {},
   "outputs": [
    {
     "name": "stdout",
     "output_type": "stream",
     "text": [
      "782/782 [==============================] - 1s 769us/step - loss: 0.3745 - accuracy: 0.8690\n",
      "Test accuracy: 0.8690400123596191\n"
     ]
    }
   ],
   "source": [
    "test_loss, test_acc = model.evaluate(X_test,  Y_test, verbose=1) \n",
    "\n",
    "print('Test accuracy:', test_acc)"
   ]
  },
  {
   "cell_type": "code",
   "execution_count": 21,
   "metadata": {},
   "outputs": [
    {
     "name": "stdout",
     "output_type": "stream",
     "text": [
      "2\n",
      "--- 0.4407167434692383 seconds ---\n"
     ]
    }
   ],
   "source": [
    "import time\n",
    "start_time = time.time()\n",
    "\n",
    "predictions = model.predict(X_test)\n",
    "predictions[20001]\n",
    "print (np.argmax(predictions[20001]))\n",
    "\n",
    "print(\"--- %s seconds ---\" % (time.time() - start_time))"
   ]
  },
  {
   "cell_type": "code",
   "execution_count": 22,
   "metadata": {},
   "outputs": [
    {
     "data": {
      "text/plain": [
       "2"
      ]
     },
     "execution_count": 22,
     "metadata": {},
     "output_type": "execute_result"
    }
   ],
   "source": [
    "Y_test[20001]"
   ]
  },
  {
   "cell_type": "code",
   "execution_count": null,
   "metadata": {},
   "outputs": [],
   "source": []
  }
 ],
 "metadata": {
  "kernelspec": {
   "display_name": "Python 3",
   "language": "python",
   "name": "python3"
  },
  "language_info": {
   "codemirror_mode": {
    "name": "ipython",
    "version": 3
   },
   "file_extension": ".py",
   "mimetype": "text/x-python",
   "name": "python",
   "nbconvert_exporter": "python",
   "pygments_lexer": "ipython3",
   "version": "3.8.10"
  }
 },
 "nbformat": 4,
 "nbformat_minor": 5
}
