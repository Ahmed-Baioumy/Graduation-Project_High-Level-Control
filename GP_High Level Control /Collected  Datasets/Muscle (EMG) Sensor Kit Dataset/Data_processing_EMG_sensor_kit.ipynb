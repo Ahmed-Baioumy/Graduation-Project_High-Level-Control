{
 "cells": [
  {
   "cell_type": "code",
   "execution_count": 1,
   "metadata": {},
   "outputs": [],
   "source": [
    "import csv\n",
    "\n",
    "import numpy as np"
   ]
  },
  {
   "cell_type": "code",
   "execution_count": 39,
   "metadata": {},
   "outputs": [],
   "source": [
    "filepath = [\"thumb\",\"index\", \"middle\", \"ring\", \"little\"]"
   ]
  },
  {
   "cell_type": "code",
   "execution_count": 40,
   "metadata": {},
   "outputs": [
    {
     "name": "stdout",
     "output_type": "stream",
     "text": [
      "367436 0\n",
      "334644 1\n",
      "336823 2\n",
      "353889 3\n",
      "352492 4\n"
     ]
    }
   ],
   "source": [
    "thumb   = []\n",
    "index   = []\n",
    "middle  = []\n",
    "ring    = []\n",
    "little  = []\n",
    "#Open    = [] \n",
    "#close   = []\n",
    "classes = []\n",
    "classes.append(thumb)\n",
    "classes.append(index)\n",
    "classes.append(middle)\n",
    "classes.append(ring)\n",
    "classes.append(little)\n",
    "#classes.append(Open)\n",
    "#classes.append(close)\n",
    "\n",
    "cnt = 0\n",
    "for file in filepath :\n",
    "    with open(file) as fp:\n",
    "        line = fp.readline()\n",
    "        while line:\n",
    "            classes[cnt].append(line)\n",
    "            #print(\"Line {}: {}\".format(cnt, line.strip()))\n",
    "            line = fp.readline()\n",
    "        print (len(classes[cnt]), cnt)\n",
    "        cnt += 1"
   ]
  },
  {
   "cell_type": "code",
   "execution_count": 41,
   "metadata": {},
   "outputs": [
    {
     "name": "stdout",
     "output_type": "stream",
     "text": [
      "0\n",
      "\n"
     ]
    }
   ],
   "source": [
    "print (classes[0][1])"
   ]
  },
  {
   "cell_type": "code",
   "execution_count": 42,
   "metadata": {},
   "outputs": [
    {
     "name": "stdout",
     "output_type": "stream",
     "text": [
      "367436 0\n",
      "334644 1\n",
      "336823 2\n",
      "353889 3\n",
      "352492 4\n"
     ]
    }
   ],
   "source": [
    "#Remove \\n \n",
    "\n",
    "for i in range (5):\n",
    "    for j in range (0,len(classes[i])):\n",
    "        classes[i][j] = classes[i][j][:-1]\n",
    "    print (len(classes[i]), i)"
   ]
  },
  {
   "cell_type": "code",
   "execution_count": 43,
   "metadata": {},
   "outputs": [
    {
     "name": "stdout",
     "output_type": "stream",
     "text": [
      "0\n"
     ]
    }
   ],
   "source": [
    "# The \\n Removed\n",
    "print (classes[0][1])"
   ]
  },
  {
   "cell_type": "code",
   "execution_count": 44,
   "metadata": {},
   "outputs": [],
   "source": [
    "classes_2D = []\n",
    "\n",
    "for i in range (5):\n",
    "    TD = []\n",
    "    \n",
    "    for j in range (0,len(classes[i]),1024):\n",
    "        #if (classes[i][j] == \"CUT HERE,CUT HERE,CUT HERE\"):\n",
    "        if (j + 1025) > (len(classes[i])):\n",
    "            break\n",
    "        \n",
    "        col = []\n",
    "        for k in range ( (j), (j+1024)):\n",
    "            col.append(classes[i][k])\n",
    "        \n",
    "        TD.append (col)\n",
    "\n",
    "    classes_2D.append(TD)"
   ]
  },
  {
   "cell_type": "code",
   "execution_count": 45,
   "metadata": {},
   "outputs": [
    {
     "name": "stdout",
     "output_type": "stream",
     "text": [
      "0\n"
     ]
    }
   ],
   "source": [
    "print (classes_2D[0][0][1])"
   ]
  },
  {
   "cell_type": "code",
   "execution_count": 46,
   "metadata": {},
   "outputs": [
    {
     "name": "stdout",
     "output_type": "stream",
     "text": [
      "358\n",
      "326\n",
      "328\n",
      "345\n",
      "344\n"
     ]
    }
   ],
   "source": [
    "for i in range (5):\n",
    "    print (len(classes_2D[i]))"
   ]
  },
  {
   "cell_type": "code",
   "execution_count": 47,
   "metadata": {},
   "outputs": [],
   "source": [
    "for i in range(5):\n",
    "    for j in range (0, len(classes_2D[i])):\n",
    "        classes_2D[i][j].append(i)\n"
   ]
  },
  {
   "cell_type": "code",
   "execution_count": 48,
   "metadata": {},
   "outputs": [
    {
     "name": "stdout",
     "output_type": "stream",
     "text": [
      "1025\n"
     ]
    }
   ],
   "source": [
    "print (len(classes_2D[0][0]))"
   ]
  },
  {
   "cell_type": "code",
   "execution_count": 49,
   "metadata": {},
   "outputs": [
    {
     "name": "stdout",
     "output_type": "stream",
     "text": [
      "0\n",
      "1\n",
      "2\n",
      "3\n",
      "4\n"
     ]
    }
   ],
   "source": [
    "print ((classes_2D[0][0][1024]))\n",
    "print ((classes_2D[1][0][1024]))\n",
    "print ((classes_2D[2][0][1024]))\n",
    "print ((classes_2D[3][0][1024]))\n",
    "print ((classes_2D[4][0][1024]))"
   ]
  },
  {
   "cell_type": "code",
   "execution_count": 50,
   "metadata": {},
   "outputs": [],
   "source": [
    "All_classes_2D = []\n",
    "for i in range(5):\n",
    "    for j in range (0, len(classes_2D[i])):\n",
    "        All_classes_2D.append(classes_2D[i][j])"
   ]
  },
  {
   "cell_type": "code",
   "execution_count": 51,
   "metadata": {},
   "outputs": [
    {
     "name": "stdout",
     "output_type": "stream",
     "text": [
      "1701\n"
     ]
    }
   ],
   "source": [
    "print (len(All_classes_2D))"
   ]
  },
  {
   "cell_type": "code",
   "execution_count": 52,
   "metadata": {},
   "outputs": [],
   "source": [
    "header = np.arange(1, 1025, 1).tolist()\n",
    "header.append(\"CLASS\")"
   ]
  },
  {
   "cell_type": "code",
   "execution_count": 53,
   "metadata": {},
   "outputs": [],
   "source": [
    "All_classes_2D.insert(0,header)"
   ]
  },
  {
   "cell_type": "code",
   "execution_count": 54,
   "metadata": {},
   "outputs": [
    {
     "name": "stdout",
     "output_type": "stream",
     "text": [
      "1702\n"
     ]
    }
   ],
   "source": [
    "print (len(All_classes_2D))"
   ]
  },
  {
   "cell_type": "code",
   "execution_count": 55,
   "metadata": {},
   "outputs": [],
   "source": [
    "np.savetxt(\"Three_Channels_EMG_DATA.csv\", \n",
    "           All_classes_2D,\n",
    "           delimiter =\",\", \n",
    "           fmt ='% s')"
   ]
  },
  {
   "cell_type": "code",
   "execution_count": 56,
   "metadata": {},
   "outputs": [],
   "source": [
    "import tensorflow as tf\n",
    "import matplotlib.pyplot as plt\n",
    "import numpy as np\n",
    "import pandas as pd"
   ]
  },
  {
   "cell_type": "code",
   "execution_count": 57,
   "metadata": {
    "scrolled": true
   },
   "outputs": [],
   "source": [
    "df = pd.read_csv('Three_Channels_EMG_DATA.csv')"
   ]
  },
  {
   "cell_type": "code",
   "execution_count": 58,
   "metadata": {},
   "outputs": [
    {
     "name": "stdout",
     "output_type": "stream",
     "text": [
      "(1701, 1025)\n"
     ]
    }
   ],
   "source": [
    "print(df.shape)"
   ]
  },
  {
   "cell_type": "code",
   "execution_count": 59,
   "metadata": {},
   "outputs": [
    {
     "name": "stdout",
     "output_type": "stream",
     "text": [
      "<bound method NDFrame.head of        1   2   3    4    5   6    7    8    9   10  ...  1016  1017  1018  \\\n",
      "0     82   0  24   77    0  16   79   16   28   45  ...     0    19   173   \n",
      "1      0  18  79    0   20  67    4   22   67    0  ...    20    83     0   \n",
      "2     20  75   0   20   86   0   17   90    0   15  ...   114     0    34   \n",
      "3     81   0  28   69    1  28   60   14   58   62  ...     4    27    67   \n",
      "4      0  17  83    0   15  91    0   17  179    0  ...    22    96     0   \n",
      "...   ..  ..  ..  ...  ...  ..  ...  ...  ...  ...  ...   ...   ...   ...   \n",
      "1696  64  50  31   70   60  19   67  106   36   79  ...   135    38    82   \n",
      "1697  88  25  87   61   21  60   46   28   75   49  ...    29    55    76   \n",
      "1698  23  58  86   24   58  71  107   61   76   24  ...   119    67    36   \n",
      "1699  64  84  44  126  105  68  155   86   34   72  ...   149    22    82   \n",
      "1700  55  23  67  110   23  62   88   43   76  104  ...    35    70   113   \n",
      "\n",
      "      1019  1020  1021  1022  1023  1024  CLASS  \n",
      "0        5    23    56     0    26    62      0  \n",
      "1       20    81     0    21    60     0      0  \n",
      "2      102     6    60    86     0    39      0  \n",
      "3        2    63    84     0    25    83      0  \n",
      "4       27    88     0    45    97     0      0  \n",
      "...    ...   ...   ...   ...   ...   ...    ...  \n",
      "1696   116    38    67   100    29    74      4  \n",
      "1697   150    68    63    13    67    74      4  \n",
      "1698    75    66    17    80    56    24      4  \n",
      "1699    26    25    96    46    27    83      4  \n",
      "1700    23    58    80    19    52    86      4  \n",
      "\n",
      "[1701 rows x 1025 columns]>\n"
     ]
    }
   ],
   "source": [
    "print (df.head)"
   ]
  },
  {
   "cell_type": "code",
   "execution_count": null,
   "metadata": {},
   "outputs": [],
   "source": []
  },
  {
   "cell_type": "code",
   "execution_count": null,
   "metadata": {},
   "outputs": [],
   "source": []
  }
 ],
 "metadata": {
  "kernelspec": {
   "display_name": "Python 3",
   "language": "python",
   "name": "python3"
  },
  "language_info": {
   "codemirror_mode": {
    "name": "ipython",
    "version": 3
   },
   "file_extension": ".py",
   "mimetype": "text/x-python",
   "name": "python",
   "nbconvert_exporter": "python",
   "pygments_lexer": "ipython3",
   "version": "3.8.10"
  }
 },
 "nbformat": 4,
 "nbformat_minor": 4
}
