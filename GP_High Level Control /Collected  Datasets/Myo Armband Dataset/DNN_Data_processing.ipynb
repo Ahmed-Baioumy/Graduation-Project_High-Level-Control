{
 "cells": [
  {
   "cell_type": "code",
   "execution_count": 1,
   "metadata": {},
   "outputs": [],
   "source": [
    "import csv\n",
    "\n",
    "import numpy as np"
   ]
  },
  {
   "cell_type": "code",
   "execution_count": 2,
   "metadata": {},
   "outputs": [],
   "source": [
    "filepath_pose1  = [\"pose1_1.csv\",\"pose1_2.csv\", \"pose1_3.csv\", \"pose1_4.csv\", \"pose1_5.csv\", \"pose1_6.csv\"]\n",
    "filepath_pose2  = [\"pose2_1.csv\",\"pose2_2.csv\", \"pose2_3.csv\", \"pose2_4.csv\", \"pose2_5.csv\", \"pose2_6.csv\"]\n",
    "filepath_pose3  = [\"pose3_1.csv\",\"pose3_2.csv\", \"pose3_3.csv\", \"pose3_4.csv\", \"pose3_5.csv\", \"pose3_6.csv\"]\n",
    "filepath_pose4  = [\"pose4_1.csv\",\"pose4_2.csv\", \"pose4_3.csv\", \"pose4_4.csv\", \"pose4_5.csv\", \"pose4_6.csv\"]\n",
    "filepath_pose5  = [\"pose5_1.csv\",\"pose5_2.csv\", \"pose5_3.csv\", \"pose5_4.csv\", \"pose5_5.csv\", \"pose5_6.csv\"]\n",
    "filepath_pose6  = [\"pose6_1.csv\",\"pose6_2.csv\", \"pose6_3.csv\", \"pose6_4.csv\", \"pose6_5.csv\", \"pose6_6.csv\"]\n",
    "filepath_pose7  = [\"pose7_1.csv\",\"pose7_2.csv\", \"pose7_3.csv\", \"pose7_4.csv\", \"pose7_5.csv\", \"pose7_6.csv\"]\n",
    "filepath_pose8  = [\"pose8_1.csv\",\"pose8_2.csv\", \"pose8_3.csv\", \"pose8_4.csv\", \"pose8_5.csv\", \"pose8_6.csv\"]\n",
    "filepath_pose9  = [\"pose9_6.csv\"]\n",
    "filepath_pose10 = [\"pose10_6.csv\"]\n",
    "                  \n",
    "filespath = []\n",
    "\n",
    "filespath.append(filepath_pose1)\n",
    "filespath.append(filepath_pose2)\n",
    "filespath.append(filepath_pose3)\n",
    "filespath.append(filepath_pose4)\n",
    "filespath.append(filepath_pose5)\n",
    "filespath.append(filepath_pose6)\n",
    "filespath.append(filepath_pose7)\n",
    "filespath.append(filepath_pose8)\n",
    "filespath.append(filepath_pose9)\n",
    "filespath.append(filepath_pose10)"
   ]
  },
  {
   "cell_type": "code",
   "execution_count": 3,
   "metadata": {},
   "outputs": [
    {
     "name": "stdout",
     "output_type": "stream",
     "text": [
      "48981 0\n",
      "50894 1\n",
      "50819 2\n",
      "50502 3\n",
      "50172 4\n",
      "47759 5\n",
      "50383 6\n",
      "49644 7\n",
      "18394 8\n",
      "18649 9\n"
     ]
    }
   ],
   "source": [
    "pose1  = []\n",
    "pose2  = []\n",
    "pose3  = []\n",
    "pose4  = []\n",
    "pose5  = []\n",
    "pose6  = []\n",
    "pose7  = []\n",
    "pose8  = []\n",
    "pose9  = []\n",
    "pose10 = []\n",
    "\n",
    "classes = []\n",
    "\n",
    "classes.append(pose1)\n",
    "classes.append(pose2)\n",
    "classes.append(pose3)\n",
    "classes.append(pose4)\n",
    "classes.append(pose5)\n",
    "classes.append(pose6)\n",
    "classes.append(pose7)\n",
    "classes.append(pose8)\n",
    "classes.append(pose9)\n",
    "classes.append(pose10)\n",
    "\n",
    "cnt = 0\n",
    "for pose in range (len(filespath)):\n",
    "    for file in filespath[pose] :\n",
    "        with open(file) as fp:\n",
    "            line = fp.readline()\n",
    "            while line:\n",
    "                classes[cnt].append(line)\n",
    "                #print(\"Line {}: {}\".format(cnt, line.strip()))\n",
    "                line = fp.readline()\n",
    "    print (len(classes[cnt]), cnt)\n",
    "    cnt += 1"
   ]
  },
  {
   "cell_type": "code",
   "execution_count": 4,
   "metadata": {},
   "outputs": [
    {
     "name": "stdout",
     "output_type": "stream",
     "text": [
      "70,251,177,208,158,48,25,25\n",
      "\n"
     ]
    }
   ],
   "source": [
    "print (classes[0][1])"
   ]
  },
  {
   "cell_type": "code",
   "execution_count": 5,
   "metadata": {},
   "outputs": [
    {
     "name": "stdout",
     "output_type": "stream",
     "text": [
      "48981 0\n",
      "50894 1\n",
      "50819 2\n",
      "50502 3\n",
      "50172 4\n",
      "47759 5\n",
      "50383 6\n",
      "49644 7\n",
      "18394 8\n",
      "18649 9\n"
     ]
    }
   ],
   "source": [
    "#Remove \\n \n",
    "\n",
    "for i in range (len(classes)):\n",
    "    for j in range (0,len(classes[i])):\n",
    "        classes[i][j] = classes[i][j][:-1]\n",
    "    print (len(classes[i]), i)"
   ]
  },
  {
   "cell_type": "code",
   "execution_count": 6,
   "metadata": {},
   "outputs": [
    {
     "name": "stdout",
     "output_type": "stream",
     "text": [
      "70,251,177,208,158,48,25,25\n"
     ]
    }
   ],
   "source": [
    "# The \\n Removed\n",
    "print (classes[0][1])"
   ]
  },
  {
   "cell_type": "code",
   "execution_count": 7,
   "metadata": {},
   "outputs": [
    {
     "name": "stdout",
     "output_type": "stream",
     "text": [
      "10\n"
     ]
    }
   ],
   "source": [
    "classes_2D = []\n",
    "\n",
    "for i in range (len(classes)):\n",
    "    TD = []\n",
    "    for j in range (0, len(classes[i])):\n",
    "        TD.append(classes[i][j].split(\",\"))\n",
    "    classes_2D.append(TD)\n",
    "print (len(classes_2D))"
   ]
  },
  {
   "cell_type": "code",
   "execution_count": 8,
   "metadata": {},
   "outputs": [
    {
     "name": "stdout",
     "output_type": "stream",
     "text": [
      "['70', '251', '177', '208', '158', '48', '25', '25']\n"
     ]
    }
   ],
   "source": [
    "print (classes_2D[0][1])"
   ]
  },
  {
   "cell_type": "code",
   "execution_count": 9,
   "metadata": {},
   "outputs": [],
   "source": [
    "for i in range (len(classes_2D)):\n",
    "    for j in range (0, len(classes_2D[i])):\n",
    "        classes_2D[i][j].append(i)"
   ]
  },
  {
   "cell_type": "code",
   "execution_count": 13,
   "metadata": {},
   "outputs": [
    {
     "name": "stdout",
     "output_type": "stream",
     "text": [
      "['70', '251', '177', '208', '158', '48', '25', '25', 0]\n"
     ]
    }
   ],
   "source": [
    "print (classes_2D[0][1])"
   ]
  },
  {
   "cell_type": "code",
   "execution_count": 15,
   "metadata": {},
   "outputs": [],
   "source": [
    "All_classes_2D = []\n",
    "for i in range(len(classes_2D)):\n",
    "    for j in range (0, len(classes_2D[i])):\n",
    "        All_classes_2D.append(classes_2D[i][j])"
   ]
  },
  {
   "cell_type": "code",
   "execution_count": 16,
   "metadata": {},
   "outputs": [
    {
     "name": "stdout",
     "output_type": "stream",
     "text": [
      "436197\n"
     ]
    }
   ],
   "source": [
    "print (len(All_classes_2D))"
   ]
  },
  {
   "cell_type": "code",
   "execution_count": 20,
   "metadata": {},
   "outputs": [],
   "source": [
    "header = [\"Channel_1\",\"Channel_2\",\"Channel_3\",\"Channel_4\",\"Channel_5\",\"Channel_6\",\"Channel_7\",\"Channel_8\",\"Class\"]"
   ]
  },
  {
   "cell_type": "code",
   "execution_count": 21,
   "metadata": {},
   "outputs": [
    {
     "name": "stdout",
     "output_type": "stream",
     "text": [
      "9\n"
     ]
    }
   ],
   "source": [
    "print (len(header))"
   ]
  },
  {
   "cell_type": "code",
   "execution_count": 22,
   "metadata": {},
   "outputs": [],
   "source": [
    "All_classes_2D.insert(0,header)"
   ]
  },
  {
   "cell_type": "code",
   "execution_count": 23,
   "metadata": {},
   "outputs": [
    {
     "name": "stdout",
     "output_type": "stream",
     "text": [
      "436198\n"
     ]
    }
   ],
   "source": [
    "print (len(All_classes_2D))"
   ]
  },
  {
   "cell_type": "code",
   "execution_count": 24,
   "metadata": {},
   "outputs": [],
   "source": [
    "np.savetxt(\"8_Channels_MyoArmband_DNN_DATA_10poses.csv\", \n",
    "           All_classes_2D,\n",
    "           delimiter =\",\", \n",
    "           fmt ='% s')"
   ]
  },
  {
   "cell_type": "code",
   "execution_count": 25,
   "metadata": {},
   "outputs": [],
   "source": [
    "import tensorflow as tf\n",
    "import matplotlib.pyplot as plt\n",
    "import numpy as np\n",
    "import pandas as pd"
   ]
  },
  {
   "cell_type": "code",
   "execution_count": 26,
   "metadata": {
    "scrolled": true
   },
   "outputs": [],
   "source": [
    "df = pd.read_csv('8_Channels_MyoArmband_DNN_DATA_10poses.csv')"
   ]
  },
  {
   "cell_type": "code",
   "execution_count": 27,
   "metadata": {
    "scrolled": true
   },
   "outputs": [
    {
     "name": "stdout",
     "output_type": "stream",
     "text": [
      "(436197, 9)\n"
     ]
    }
   ],
   "source": [
    "print(df.shape)"
   ]
  },
  {
   "cell_type": "code",
   "execution_count": 28,
   "metadata": {},
   "outputs": [
    {
     "data": {
      "text/html": [
       "<div>\n",
       "<style scoped>\n",
       "    .dataframe tbody tr th:only-of-type {\n",
       "        vertical-align: middle;\n",
       "    }\n",
       "\n",
       "    .dataframe tbody tr th {\n",
       "        vertical-align: top;\n",
       "    }\n",
       "\n",
       "    .dataframe thead th {\n",
       "        text-align: right;\n",
       "    }\n",
       "</style>\n",
       "<table border=\"1\" class=\"dataframe\">\n",
       "  <thead>\n",
       "    <tr style=\"text-align: right;\">\n",
       "      <th></th>\n",
       "      <th>Channel_1</th>\n",
       "      <th>Channel_2</th>\n",
       "      <th>Channel_3</th>\n",
       "      <th>Channel_4</th>\n",
       "      <th>Channel_5</th>\n",
       "      <th>Channel_6</th>\n",
       "      <th>Channel_7</th>\n",
       "      <th>Channel_8</th>\n",
       "      <th>Class</th>\n",
       "    </tr>\n",
       "  </thead>\n",
       "  <tbody>\n",
       "    <tr>\n",
       "      <th>0</th>\n",
       "      <td>62</td>\n",
       "      <td>205</td>\n",
       "      <td>164</td>\n",
       "      <td>199</td>\n",
       "      <td>158</td>\n",
       "      <td>46</td>\n",
       "      <td>24</td>\n",
       "      <td>22</td>\n",
       "      <td>0</td>\n",
       "    </tr>\n",
       "    <tr>\n",
       "      <th>1</th>\n",
       "      <td>70</td>\n",
       "      <td>251</td>\n",
       "      <td>177</td>\n",
       "      <td>208</td>\n",
       "      <td>158</td>\n",
       "      <td>48</td>\n",
       "      <td>25</td>\n",
       "      <td>25</td>\n",
       "      <td>0</td>\n",
       "    </tr>\n",
       "    <tr>\n",
       "      <th>2</th>\n",
       "      <td>66</td>\n",
       "      <td>249</td>\n",
       "      <td>174</td>\n",
       "      <td>179</td>\n",
       "      <td>140</td>\n",
       "      <td>47</td>\n",
       "      <td>24</td>\n",
       "      <td>26</td>\n",
       "      <td>0</td>\n",
       "    </tr>\n",
       "    <tr>\n",
       "      <th>3</th>\n",
       "      <td>75</td>\n",
       "      <td>235</td>\n",
       "      <td>177</td>\n",
       "      <td>190</td>\n",
       "      <td>135</td>\n",
       "      <td>51</td>\n",
       "      <td>25</td>\n",
       "      <td>28</td>\n",
       "      <td>0</td>\n",
       "    </tr>\n",
       "    <tr>\n",
       "      <th>4</th>\n",
       "      <td>70</td>\n",
       "      <td>221</td>\n",
       "      <td>200</td>\n",
       "      <td>177</td>\n",
       "      <td>118</td>\n",
       "      <td>46</td>\n",
       "      <td>23</td>\n",
       "      <td>27</td>\n",
       "      <td>0</td>\n",
       "    </tr>\n",
       "  </tbody>\n",
       "</table>\n",
       "</div>"
      ],
      "text/plain": [
       "   Channel_1  Channel_2  Channel_3  Channel_4  Channel_5  Channel_6  \\\n",
       "0         62        205        164        199        158         46   \n",
       "1         70        251        177        208        158         48   \n",
       "2         66        249        174        179        140         47   \n",
       "3         75        235        177        190        135         51   \n",
       "4         70        221        200        177        118         46   \n",
       "\n",
       "   Channel_7  Channel_8  Class  \n",
       "0         24         22      0  \n",
       "1         25         25      0  \n",
       "2         24         26      0  \n",
       "3         25         28      0  \n",
       "4         23         27      0  "
      ]
     },
     "execution_count": 28,
     "metadata": {},
     "output_type": "execute_result"
    }
   ],
   "source": [
    "df.head()"
   ]
  }
 ],
 "metadata": {
  "kernelspec": {
   "display_name": "Python 3",
   "language": "python",
   "name": "python3"
  },
  "language_info": {
   "codemirror_mode": {
    "name": "ipython",
    "version": 3
   },
   "file_extension": ".py",
   "mimetype": "text/x-python",
   "name": "python",
   "nbconvert_exporter": "python",
   "pygments_lexer": "ipython3",
   "version": "3.8.10"
  }
 },
 "nbformat": 4,
 "nbformat_minor": 4
}
