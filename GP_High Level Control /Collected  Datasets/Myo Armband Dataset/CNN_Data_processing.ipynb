{
 "cells": [
  {
   "cell_type": "code",
   "execution_count": 1,
   "metadata": {},
   "outputs": [],
   "source": [
    "import csv\n",
    "\n",
    "import numpy as np"
   ]
  },
  {
   "cell_type": "code",
   "execution_count": 3,
   "metadata": {},
   "outputs": [],
   "source": [
    "filepath_pose1  = [\"pose1_1.csv\",\"pose1_2.csv\", \"pose1_3.csv\", \"pose1_4.csv\", \"pose1_5.csv\", \"pose1_6.csv\"]\n",
    "filepath_pose2  = [\"pose2_1.csv\",\"pose2_2.csv\", \"pose2_3.csv\", \"pose2_4.csv\", \"pose2_5.csv\", \"pose2_6.csv\"]\n",
    "filepath_pose3  = [\"pose3_1.csv\",\"pose3_2.csv\", \"pose3_3.csv\", \"pose3_4.csv\", \"pose3_5.csv\", \"pose3_6.csv\"]\n",
    "filepath_pose4  = [\"pose4_1.csv\",\"pose4_2.csv\", \"pose4_3.csv\", \"pose4_4.csv\", \"pose4_5.csv\", \"pose4_6.csv\"]\n",
    "filepath_pose5  = [\"pose5_1.csv\",\"pose5_2.csv\", \"pose5_3.csv\", \"pose5_4.csv\", \"pose5_5.csv\", \"pose5_6.csv\"]\n",
    "filepath_pose6  = [\"pose6_1.csv\",\"pose6_2.csv\", \"pose6_3.csv\", \"pose6_4.csv\", \"pose6_5.csv\", \"pose6_6.csv\"]\n",
    "filepath_pose7  = [\"pose7_1.csv\",\"pose7_2.csv\", \"pose7_3.csv\", \"pose7_4.csv\", \"pose7_5.csv\", \"pose7_6.csv\"]\n",
    "filepath_pose8  = [\"pose8_1.csv\",\"pose8_2.csv\", \"pose8_3.csv\", \"pose8_4.csv\", \"pose8_5.csv\", \"pose8_6.csv\"]\n",
    "filepath_pose9  = [\"pose9_6.csv\"]\n",
    "filepath_pose10 = [\"pose10_6.csv\"]\n",
    "                  \n",
    "filespath = []\n",
    "\n",
    "filespath.append(filepath_pose1)\n",
    "filespath.append(filepath_pose2)\n",
    "filespath.append(filepath_pose3)\n",
    "filespath.append(filepath_pose4)\n",
    "filespath.append(filepath_pose5)\n",
    "filespath.append(filepath_pose6)\n",
    "filespath.append(filepath_pose7)\n",
    "filespath.append(filepath_pose8)\n",
    "filespath.append(filepath_pose9)\n",
    "filespath.append(filepath_pose10)"
   ]
  },
  {
   "cell_type": "code",
   "execution_count": 4,
   "metadata": {},
   "outputs": [
    {
     "name": "stdout",
     "output_type": "stream",
     "text": [
      "48981 0\n",
      "50894 1\n",
      "50819 2\n",
      "50502 3\n",
      "50172 4\n",
      "47759 5\n",
      "50383 6\n",
      "49644 7\n",
      "18394 8\n",
      "18649 9\n"
     ]
    }
   ],
   "source": [
    "pose1  = []\n",
    "pose2  = []\n",
    "pose3  = []\n",
    "pose4  = []\n",
    "pose5  = []\n",
    "pose6  = []\n",
    "pose7  = []\n",
    "pose8  = []\n",
    "pose9  = []\n",
    "pose10 = []\n",
    "\n",
    "classes = []\n",
    "\n",
    "classes.append(pose1)\n",
    "classes.append(pose2)\n",
    "classes.append(pose3)\n",
    "classes.append(pose4)\n",
    "classes.append(pose5)\n",
    "classes.append(pose6)\n",
    "classes.append(pose7)\n",
    "classes.append(pose8)\n",
    "classes.append(pose9)\n",
    "classes.append(pose10)\n",
    "\n",
    "cnt = 0\n",
    "for pose in range (len(filespath)):\n",
    "    for file in filespath[pose] :\n",
    "        with open(file) as fp:\n",
    "            line = fp.readline()\n",
    "            while line:\n",
    "                classes[cnt].append(line)\n",
    "                #print(\"Line {}: {}\".format(cnt, line.strip()))\n",
    "                line = fp.readline()\n",
    "    print (len(classes[cnt]), cnt)\n",
    "    cnt += 1"
   ]
  },
  {
   "cell_type": "code",
   "execution_count": 5,
   "metadata": {},
   "outputs": [
    {
     "name": "stdout",
     "output_type": "stream",
     "text": [
      "70,251,177,208,158,48,25,25\n",
      "\n"
     ]
    }
   ],
   "source": [
    "print (classes[0][1])"
   ]
  },
  {
   "cell_type": "code",
   "execution_count": 6,
   "metadata": {},
   "outputs": [
    {
     "name": "stdout",
     "output_type": "stream",
     "text": [
      "48981 0\n",
      "50894 1\n",
      "50819 2\n",
      "50502 3\n",
      "50172 4\n",
      "47759 5\n",
      "50383 6\n",
      "49644 7\n",
      "18394 8\n",
      "18649 9\n"
     ]
    }
   ],
   "source": [
    "#Remove \\n \n",
    "\n",
    "for i in range (len(classes)):\n",
    "    for j in range (0,len(classes[i])):\n",
    "        classes[i][j] = classes[i][j][:-1]\n",
    "    print (len(classes[i]), i)"
   ]
  },
  {
   "cell_type": "code",
   "execution_count": 7,
   "metadata": {},
   "outputs": [
    {
     "name": "stdout",
     "output_type": "stream",
     "text": [
      "70,251,177,208,158,48,25,25\n"
     ]
    }
   ],
   "source": [
    "# The \\n Removed\n",
    "print (classes[0][1])"
   ]
  },
  {
   "cell_type": "code",
   "execution_count": 8,
   "metadata": {},
   "outputs": [
    {
     "name": "stdout",
     "output_type": "stream",
     "text": [
      "10\n"
     ]
    }
   ],
   "source": [
    "classes_2D = []\n",
    "\n",
    "for i in range (len(classes)):\n",
    "    TD = []\n",
    "    for j in range (0, len(classes[i])):\n",
    "        TD.append(classes[i][j].split(\",\"))\n",
    "    classes_2D.append(TD)\n",
    "print (len(classes_2D))"
   ]
  },
  {
   "cell_type": "code",
   "execution_count": 9,
   "metadata": {},
   "outputs": [
    {
     "name": "stdout",
     "output_type": "stream",
     "text": [
      "['70', '251', '177', '208', '158', '48', '25', '25']\n"
     ]
    }
   ],
   "source": [
    "print (classes_2D[0][1])"
   ]
  },
  {
   "cell_type": "code",
   "execution_count": 10,
   "metadata": {},
   "outputs": [],
   "source": [
    "classes_3D = []\n",
    "\n",
    "for i in range (len(classes_2D)):\n",
    "    TD = []\n",
    "    \n",
    "    for j in range (0,len(classes_2D[i]),64):\n",
    "        #if (classes[i][j] == \"CUT HERE,CUT HERE,CUT HERE\"):\n",
    "        if (j + 65) > (len(classes_2D[i])):\n",
    "            break\n",
    "        \n",
    "        col = []\n",
    "        for k in range ( (j), (j+64)):\n",
    "            col.append(classes_2D[i][k])\n",
    "        \n",
    "        TD.append (col)\n",
    "\n",
    "    classes_3D.append(TD)"
   ]
  },
  {
   "cell_type": "code",
   "execution_count": 11,
   "metadata": {},
   "outputs": [
    {
     "name": "stdout",
     "output_type": "stream",
     "text": [
      "['52', '706', '67', '43', '123', '35', '19', '19']\n"
     ]
    }
   ],
   "source": [
    "print (classes_3D[0][483][0])"
   ]
  },
  {
   "cell_type": "code",
   "execution_count": 12,
   "metadata": {},
   "outputs": [
    {
     "name": "stdout",
     "output_type": "stream",
     "text": [
      "765\n",
      "795\n",
      "794\n",
      "789\n",
      "783\n",
      "746\n",
      "787\n",
      "775\n",
      "287\n",
      "291\n"
     ]
    }
   ],
   "source": [
    "for i in range (len(classes_3D)):\n",
    "    print (len(classes_3D[i]))"
   ]
  },
  {
   "cell_type": "code",
   "execution_count": 14,
   "metadata": {},
   "outputs": [],
   "source": [
    "DATA_AS_Images = []\n",
    "for i in range (len(classes_3D)):\n",
    "    pose_as_images = []\n",
    "    for j in range (len(classes_3D[i])):\n",
    "        frame_as_image = []\n",
    "        Channel_1 = []\n",
    "        Channel_2 = []\n",
    "        Channel_3 = []\n",
    "        Channel_4 = []\n",
    "        Channel_5 = []\n",
    "        Channel_6 = []\n",
    "        Channel_7 = []\n",
    "        Channel_8 = []\n",
    "\n",
    "        for k in range (len(classes_3D[i][j])):\n",
    "            Channel_1.append(classes_3D[i][j][k][0])\n",
    "            Channel_2.append(classes_3D[i][j][k][1])\n",
    "            Channel_3.append(classes_3D[i][j][k][2])\n",
    "            Channel_4.append(classes_3D[i][j][k][3])\n",
    "            Channel_5.append(classes_3D[i][j][k][4])\n",
    "            Channel_6.append(classes_3D[i][j][k][5])\n",
    "            Channel_7.append(classes_3D[i][j][k][6])\n",
    "            Channel_8.append(classes_3D[i][j][k][7])\n",
    "        frame_as_image.append(Channel_1)\n",
    "        frame_as_image.append(Channel_2)\n",
    "        frame_as_image.append(Channel_3)\n",
    "        frame_as_image.append(Channel_4)\n",
    "        frame_as_image.append(Channel_5)\n",
    "        frame_as_image.append(Channel_6)\n",
    "        frame_as_image.append(Channel_7)\n",
    "        frame_as_image.append(Channel_8)\n",
    "    \n",
    "        pose_as_images.append(frame_as_image)\n",
    "    DATA_AS_Images.append(pose_as_images)"
   ]
  },
  {
   "cell_type": "code",
   "execution_count": 17,
   "metadata": {},
   "outputs": [
    {
     "name": "stdout",
     "output_type": "stream",
     "text": [
      "64\n"
     ]
    }
   ],
   "source": [
    "print (len(DATA_AS_Images[0][0][0]))"
   ]
  },
  {
   "cell_type": "code",
   "execution_count": 18,
   "metadata": {},
   "outputs": [],
   "source": [
    "DATA = []\n",
    "for i in range (len(DATA_AS_Images)):\n",
    "    data = np.array(DATA_AS_Images[i])\n",
    "    data = data.reshape(len(DATA_AS_Images[i]), 512)\n",
    "    DATA.append(data.tolist())"
   ]
  },
  {
   "cell_type": "code",
   "execution_count": 19,
   "metadata": {},
   "outputs": [
    {
     "name": "stdout",
     "output_type": "stream",
     "text": [
      "512\n"
     ]
    }
   ],
   "source": [
    "print(len(DATA[0][1]))"
   ]
  },
  {
   "cell_type": "code",
   "execution_count": 20,
   "metadata": {},
   "outputs": [],
   "source": [
    "for i in range (len(DATA)):\n",
    "    for j in range (0, len(DATA[i])):\n",
    "        DATA[i][j].append(i)\n",
    "        "
   ]
  },
  {
   "cell_type": "code",
   "execution_count": 21,
   "metadata": {},
   "outputs": [
    {
     "name": "stdout",
     "output_type": "stream",
     "text": [
      "['65', '55', '55', '62', '65', '65', '64', '74', '61', '61', '64', '67', '56', '66', '63', '62', '59', '61', '49', '54', '49', '55', '57', '59', '60', '67', '64', '59', '60', '60', '59', '55', '76', '75', '75', '75', '79', '62', '61', '56', '50', '55', '54', '51', '59', '59', '55', '54', '55', '45', '46', '47', '54', '70', '81', '88', '86', '94', '99', '93', '86', '87', '80', '71', '219', '212', '203', '200', '177', '150', '144', '151', '149', '148', '154', '165', '176', '151', '172', '198', '203', '195', '199', '202', '173', '173', '191', '199', '182', '184', '181', '152', '137', '213', '232', '227', '256', '264', '218', '204', '223', '199', '196', '205', '198', '187', '184', '175', '177', '188', '184', '191', '203', '178', '180', '178', '176', '167', '185', '200', '217', '258', '260', '251', '245', '230', '193', '190', '199', '204', '213', '258', '248', '204', '208', '208', '177', '180', '185', '192', '201', '199', '273', '308', '307', '311', '314', '267', '235', '241', '236', '229', '232', '241', '234', '220', '212', '218', '199', '188', '219', '216', '192', '183', '183', '196', '209', '232', '266', '273', '248', '301', '275', '253', '270', '264', '198', '208', '217', '226', '240', '238', '239', '237', '212', '232', '243', '234', '222', '256', '252', '266', '189', '197', '216', '218', '209', '206', '187', '164', '164', '169', '176', '210', '208', '215', '245', '231', '201', '209', '223', '206', '205', '191', '196', '174', '134', '134', '149', '155', '170', '192', '213', '205', '197', '190', '167', '148', '153', '152', '171', '167', '168', '166', '159', '149', '194', '186', '187', '192', '181', '170', '168', '170', '174', '177', '149', '175', '184', '171', '157', '155', '166', '161', '163', '193', '147', '164', '184', '184', '171', '170', '146', '111', '107', '124', '108', '152', '159', '166', '178', '183', '148', '144', '165', '151', '145', '143', '142', '114', '109', '136', '137', '151', '158', '153', '141', '143', '140', '130', '131', '119', '129', '124', '124', '126', '141', '137', '134', '163', '178', '170', '177', '174', '145', '134', '136', '115', '117', '123', '111', '114', '110', '115', '116', '120', '145', '148', '140', '148', '39', '46', '49', '49', '53', '60', '57', '53', '52', '48', '44', '43', '41', '42', '46', '47', '46', '46', '47', '52', '48', '51', '53', '55', '51', '56', '51', '54', '54', '59', '58', '60', '61', '64', '57', '54', '53', '67', '65', '66', '68', '79', '65', '63', '64', '65', '47', '47', '50', '46', '51', '54', '51', '50', '52', '48', '51', '55', '55', '54', '55', '51', '48', '45', '22', '23', '25', '25', '26', '26', '25', '23', '22', '19', '19', '18', '20', '19', '22', '26', '27', '28', '29', '28', '26', '26', '23', '24', '24', '26', '24', '27', '27', '27', '25', '26', '27', '26', '24', '25', '26', '26', '25', '28', '28', '27', '26', '28', '27', '26', '25', '25', '25', '26', '26', '26', '25', '23', '21', '19', '22', '23', '24', '26', '26', '24', '26', '25', '22', '23', '25', '23', '23', '24', '23', '24', '22', '25', '23', '24', '22', '23', '22', '24', '23', '23', '25', '24', '23', '26', '26', '24', '24', '24', '23', '23', '24', '27', '27', '26', '28', '28', '26', '26', '31', '29', '29', '30', '31', '27', '26', '25', '26', '26', '26', '28', '29', '27', '25', '23', '20', '22', '23', '22', '28', '30', '27', '27', '27', '25', '25', '26', 0]\n"
     ]
    }
   ],
   "source": [
    "print (DATA[0][1])"
   ]
  },
  {
   "cell_type": "code",
   "execution_count": 22,
   "metadata": {},
   "outputs": [],
   "source": [
    "All_classes_2D = []\n",
    "for i in range(len(DATA)):\n",
    "    for j in range (0, len(DATA[i])):\n",
    "        All_classes_2D.append(DATA[i][j])"
   ]
  },
  {
   "cell_type": "code",
   "execution_count": 23,
   "metadata": {},
   "outputs": [
    {
     "name": "stdout",
     "output_type": "stream",
     "text": [
      "6812\n"
     ]
    }
   ],
   "source": [
    "print (len(All_classes_2D))"
   ]
  },
  {
   "cell_type": "code",
   "execution_count": 25,
   "metadata": {},
   "outputs": [],
   "source": [
    "header = []\n",
    "for i in range (8):\n",
    "    for j in range (64):\n",
    "        header.append(\"Channel_{}\".format(i))"
   ]
  },
  {
   "cell_type": "code",
   "execution_count": 26,
   "metadata": {},
   "outputs": [],
   "source": [
    "header.append(\"Class\")"
   ]
  },
  {
   "cell_type": "code",
   "execution_count": 27,
   "metadata": {},
   "outputs": [
    {
     "name": "stdout",
     "output_type": "stream",
     "text": [
      "513\n"
     ]
    }
   ],
   "source": [
    "print (len(header))"
   ]
  },
  {
   "cell_type": "code",
   "execution_count": 28,
   "metadata": {},
   "outputs": [],
   "source": [
    "All_classes_2D.insert(0,header)"
   ]
  },
  {
   "cell_type": "code",
   "execution_count": 29,
   "metadata": {},
   "outputs": [
    {
     "name": "stdout",
     "output_type": "stream",
     "text": [
      "6813\n"
     ]
    }
   ],
   "source": [
    "print (len(All_classes_2D))"
   ]
  },
  {
   "cell_type": "code",
   "execution_count": 30,
   "metadata": {},
   "outputs": [],
   "source": [
    "np.savetxt(\"8_Channels_MyoArmband_DATA_AS_Images_10poses.csv\", \n",
    "           All_classes_2D,\n",
    "           delimiter =\",\", \n",
    "           fmt ='% s')"
   ]
  },
  {
   "cell_type": "code",
   "execution_count": 31,
   "metadata": {},
   "outputs": [],
   "source": [
    "import tensorflow as tf\n",
    "import matplotlib.pyplot as plt\n",
    "import numpy as np\n",
    "import pandas as pd"
   ]
  },
  {
   "cell_type": "code",
   "execution_count": 32,
   "metadata": {
    "scrolled": true
   },
   "outputs": [],
   "source": [
    "df = pd.read_csv('8_Channels_MyoArmband_DATA_AS_Images_10poses.csv')"
   ]
  },
  {
   "cell_type": "code",
   "execution_count": 33,
   "metadata": {
    "scrolled": true
   },
   "outputs": [
    {
     "name": "stdout",
     "output_type": "stream",
     "text": [
      "(6812, 513)\n"
     ]
    }
   ],
   "source": [
    "print(df.shape)"
   ]
  },
  {
   "cell_type": "code",
   "execution_count": 34,
   "metadata": {},
   "outputs": [
    {
     "data": {
      "text/html": [
       "<div>\n",
       "<style scoped>\n",
       "    .dataframe tbody tr th:only-of-type {\n",
       "        vertical-align: middle;\n",
       "    }\n",
       "\n",
       "    .dataframe tbody tr th {\n",
       "        vertical-align: top;\n",
       "    }\n",
       "\n",
       "    .dataframe thead th {\n",
       "        text-align: right;\n",
       "    }\n",
       "</style>\n",
       "<table border=\"1\" class=\"dataframe\">\n",
       "  <thead>\n",
       "    <tr style=\"text-align: right;\">\n",
       "      <th></th>\n",
       "      <th>Channel_0</th>\n",
       "      <th>Channel_0.1</th>\n",
       "      <th>Channel_0.2</th>\n",
       "      <th>Channel_0.3</th>\n",
       "      <th>Channel_0.4</th>\n",
       "      <th>Channel_0.5</th>\n",
       "      <th>Channel_0.6</th>\n",
       "      <th>Channel_0.7</th>\n",
       "      <th>Channel_0.8</th>\n",
       "      <th>Channel_0.9</th>\n",
       "      <th>...</th>\n",
       "      <th>Channel_7.55</th>\n",
       "      <th>Channel_7.56</th>\n",
       "      <th>Channel_7.57</th>\n",
       "      <th>Channel_7.58</th>\n",
       "      <th>Channel_7.59</th>\n",
       "      <th>Channel_7.60</th>\n",
       "      <th>Channel_7.61</th>\n",
       "      <th>Channel_7.62</th>\n",
       "      <th>Channel_7.63</th>\n",
       "      <th>Class</th>\n",
       "    </tr>\n",
       "  </thead>\n",
       "  <tbody>\n",
       "    <tr>\n",
       "      <th>0</th>\n",
       "      <td>62</td>\n",
       "      <td>70</td>\n",
       "      <td>66</td>\n",
       "      <td>75</td>\n",
       "      <td>70</td>\n",
       "      <td>70</td>\n",
       "      <td>62</td>\n",
       "      <td>64</td>\n",
       "      <td>60</td>\n",
       "      <td>63</td>\n",
       "      <td>...</td>\n",
       "      <td>26</td>\n",
       "      <td>24</td>\n",
       "      <td>24</td>\n",
       "      <td>28</td>\n",
       "      <td>27</td>\n",
       "      <td>26</td>\n",
       "      <td>24</td>\n",
       "      <td>27</td>\n",
       "      <td>22</td>\n",
       "      <td>0</td>\n",
       "    </tr>\n",
       "    <tr>\n",
       "      <th>1</th>\n",
       "      <td>65</td>\n",
       "      <td>55</td>\n",
       "      <td>55</td>\n",
       "      <td>62</td>\n",
       "      <td>65</td>\n",
       "      <td>65</td>\n",
       "      <td>64</td>\n",
       "      <td>74</td>\n",
       "      <td>61</td>\n",
       "      <td>61</td>\n",
       "      <td>...</td>\n",
       "      <td>22</td>\n",
       "      <td>28</td>\n",
       "      <td>30</td>\n",
       "      <td>27</td>\n",
       "      <td>27</td>\n",
       "      <td>27</td>\n",
       "      <td>25</td>\n",
       "      <td>25</td>\n",
       "      <td>26</td>\n",
       "      <td>0</td>\n",
       "    </tr>\n",
       "    <tr>\n",
       "      <th>2</th>\n",
       "      <td>75</td>\n",
       "      <td>74</td>\n",
       "      <td>82</td>\n",
       "      <td>105</td>\n",
       "      <td>107</td>\n",
       "      <td>106</td>\n",
       "      <td>106</td>\n",
       "      <td>101</td>\n",
       "      <td>73</td>\n",
       "      <td>63</td>\n",
       "      <td>...</td>\n",
       "      <td>24</td>\n",
       "      <td>25</td>\n",
       "      <td>25</td>\n",
       "      <td>26</td>\n",
       "      <td>26</td>\n",
       "      <td>27</td>\n",
       "      <td>28</td>\n",
       "      <td>27</td>\n",
       "      <td>26</td>\n",
       "      <td>0</td>\n",
       "    </tr>\n",
       "    <tr>\n",
       "      <th>3</th>\n",
       "      <td>72</td>\n",
       "      <td>72</td>\n",
       "      <td>75</td>\n",
       "      <td>63</td>\n",
       "      <td>73</td>\n",
       "      <td>67</td>\n",
       "      <td>71</td>\n",
       "      <td>69</td>\n",
       "      <td>72</td>\n",
       "      <td>63</td>\n",
       "      <td>...</td>\n",
       "      <td>29</td>\n",
       "      <td>29</td>\n",
       "      <td>28</td>\n",
       "      <td>29</td>\n",
       "      <td>27</td>\n",
       "      <td>29</td>\n",
       "      <td>28</td>\n",
       "      <td>30</td>\n",
       "      <td>28</td>\n",
       "      <td>0</td>\n",
       "    </tr>\n",
       "    <tr>\n",
       "      <th>4</th>\n",
       "      <td>79</td>\n",
       "      <td>105</td>\n",
       "      <td>106</td>\n",
       "      <td>95</td>\n",
       "      <td>92</td>\n",
       "      <td>91</td>\n",
       "      <td>69</td>\n",
       "      <td>60</td>\n",
       "      <td>58</td>\n",
       "      <td>62</td>\n",
       "      <td>...</td>\n",
       "      <td>23</td>\n",
       "      <td>23</td>\n",
       "      <td>23</td>\n",
       "      <td>22</td>\n",
       "      <td>22</td>\n",
       "      <td>23</td>\n",
       "      <td>21</td>\n",
       "      <td>23</td>\n",
       "      <td>23</td>\n",
       "      <td>0</td>\n",
       "    </tr>\n",
       "  </tbody>\n",
       "</table>\n",
       "<p>5 rows × 513 columns</p>\n",
       "</div>"
      ],
      "text/plain": [
       "   Channel_0  Channel_0.1  Channel_0.2  Channel_0.3  Channel_0.4  Channel_0.5  \\\n",
       "0         62           70           66           75           70           70   \n",
       "1         65           55           55           62           65           65   \n",
       "2         75           74           82          105          107          106   \n",
       "3         72           72           75           63           73           67   \n",
       "4         79          105          106           95           92           91   \n",
       "\n",
       "   Channel_0.6  Channel_0.7  Channel_0.8  Channel_0.9  ...  Channel_7.55  \\\n",
       "0           62           64           60           63  ...            26   \n",
       "1           64           74           61           61  ...            22   \n",
       "2          106          101           73           63  ...            24   \n",
       "3           71           69           72           63  ...            29   \n",
       "4           69           60           58           62  ...            23   \n",
       "\n",
       "   Channel_7.56  Channel_7.57  Channel_7.58  Channel_7.59  Channel_7.60  \\\n",
       "0            24            24            28            27            26   \n",
       "1            28            30            27            27            27   \n",
       "2            25            25            26            26            27   \n",
       "3            29            28            29            27            29   \n",
       "4            23            23            22            22            23   \n",
       "\n",
       "   Channel_7.61  Channel_7.62  Channel_7.63  Class  \n",
       "0            24            27            22      0  \n",
       "1            25            25            26      0  \n",
       "2            28            27            26      0  \n",
       "3            28            30            28      0  \n",
       "4            21            23            23      0  \n",
       "\n",
       "[5 rows x 513 columns]"
      ]
     },
     "execution_count": 34,
     "metadata": {},
     "output_type": "execute_result"
    }
   ],
   "source": [
    "df.head()"
   ]
  },
  {
   "cell_type": "code",
   "execution_count": null,
   "metadata": {},
   "outputs": [],
   "source": []
  },
  {
   "cell_type": "code",
   "execution_count": null,
   "metadata": {},
   "outputs": [],
   "source": []
  }
 ],
 "metadata": {
  "kernelspec": {
   "display_name": "Python 3",
   "language": "python",
   "name": "python3"
  },
  "language_info": {
   "codemirror_mode": {
    "name": "ipython",
    "version": 3
   },
   "file_extension": ".py",
   "mimetype": "text/x-python",
   "name": "python",
   "nbconvert_exporter": "python",
   "pygments_lexer": "ipython3",
   "version": "3.8.10"
  }
 },
 "nbformat": 4,
 "nbformat_minor": 4
}
