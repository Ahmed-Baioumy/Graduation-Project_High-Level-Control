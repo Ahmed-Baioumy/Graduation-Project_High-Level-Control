{
 "cells": [
  {
   "cell_type": "code",
   "execution_count": 1,
   "metadata": {},
   "outputs": [],
   "source": [
    "import tensorflow as tf\n",
    "import matplotlib.pyplot as plt\n",
    "import numpy as np\n",
    "import pandas as pd"
   ]
  },
  {
   "cell_type": "code",
   "execution_count": 9,
   "metadata": {},
   "outputs": [
    {
     "data": {
      "text/html": [
       "<div>\n",
       "<style scoped>\n",
       "    .dataframe tbody tr th:only-of-type {\n",
       "        vertical-align: middle;\n",
       "    }\n",
       "\n",
       "    .dataframe tbody tr th {\n",
       "        vertical-align: top;\n",
       "    }\n",
       "\n",
       "    .dataframe thead th {\n",
       "        text-align: right;\n",
       "    }\n",
       "</style>\n",
       "<table border=\"1\" class=\"dataframe\">\n",
       "  <thead>\n",
       "    <tr style=\"text-align: right;\">\n",
       "      <th></th>\n",
       "      <th>1</th>\n",
       "      <th>2</th>\n",
       "      <th>3</th>\n",
       "      <th>4</th>\n",
       "      <th>5</th>\n",
       "      <th>6</th>\n",
       "      <th>7</th>\n",
       "      <th>8</th>\n",
       "      <th>9</th>\n",
       "      <th>10</th>\n",
       "      <th>...</th>\n",
       "      <th>1016</th>\n",
       "      <th>1017</th>\n",
       "      <th>1018</th>\n",
       "      <th>1019</th>\n",
       "      <th>1020</th>\n",
       "      <th>1021</th>\n",
       "      <th>1022</th>\n",
       "      <th>1023</th>\n",
       "      <th>1024</th>\n",
       "      <th>CLASS</th>\n",
       "    </tr>\n",
       "  </thead>\n",
       "  <tbody>\n",
       "    <tr>\n",
       "      <th>0</th>\n",
       "      <td>82</td>\n",
       "      <td>0</td>\n",
       "      <td>24</td>\n",
       "      <td>77</td>\n",
       "      <td>0</td>\n",
       "      <td>16</td>\n",
       "      <td>79</td>\n",
       "      <td>16</td>\n",
       "      <td>28</td>\n",
       "      <td>45</td>\n",
       "      <td>...</td>\n",
       "      <td>0</td>\n",
       "      <td>19</td>\n",
       "      <td>173</td>\n",
       "      <td>5</td>\n",
       "      <td>23</td>\n",
       "      <td>56</td>\n",
       "      <td>0</td>\n",
       "      <td>26</td>\n",
       "      <td>62</td>\n",
       "      <td>0</td>\n",
       "    </tr>\n",
       "    <tr>\n",
       "      <th>1</th>\n",
       "      <td>0</td>\n",
       "      <td>18</td>\n",
       "      <td>79</td>\n",
       "      <td>0</td>\n",
       "      <td>20</td>\n",
       "      <td>67</td>\n",
       "      <td>4</td>\n",
       "      <td>22</td>\n",
       "      <td>67</td>\n",
       "      <td>0</td>\n",
       "      <td>...</td>\n",
       "      <td>20</td>\n",
       "      <td>83</td>\n",
       "      <td>0</td>\n",
       "      <td>20</td>\n",
       "      <td>81</td>\n",
       "      <td>0</td>\n",
       "      <td>21</td>\n",
       "      <td>60</td>\n",
       "      <td>0</td>\n",
       "      <td>0</td>\n",
       "    </tr>\n",
       "    <tr>\n",
       "      <th>2</th>\n",
       "      <td>20</td>\n",
       "      <td>75</td>\n",
       "      <td>0</td>\n",
       "      <td>20</td>\n",
       "      <td>86</td>\n",
       "      <td>0</td>\n",
       "      <td>17</td>\n",
       "      <td>90</td>\n",
       "      <td>0</td>\n",
       "      <td>15</td>\n",
       "      <td>...</td>\n",
       "      <td>114</td>\n",
       "      <td>0</td>\n",
       "      <td>34</td>\n",
       "      <td>102</td>\n",
       "      <td>6</td>\n",
       "      <td>60</td>\n",
       "      <td>86</td>\n",
       "      <td>0</td>\n",
       "      <td>39</td>\n",
       "      <td>0</td>\n",
       "    </tr>\n",
       "    <tr>\n",
       "      <th>3</th>\n",
       "      <td>81</td>\n",
       "      <td>0</td>\n",
       "      <td>28</td>\n",
       "      <td>69</td>\n",
       "      <td>1</td>\n",
       "      <td>28</td>\n",
       "      <td>60</td>\n",
       "      <td>14</td>\n",
       "      <td>58</td>\n",
       "      <td>62</td>\n",
       "      <td>...</td>\n",
       "      <td>4</td>\n",
       "      <td>27</td>\n",
       "      <td>67</td>\n",
       "      <td>2</td>\n",
       "      <td>63</td>\n",
       "      <td>84</td>\n",
       "      <td>0</td>\n",
       "      <td>25</td>\n",
       "      <td>83</td>\n",
       "      <td>0</td>\n",
       "    </tr>\n",
       "    <tr>\n",
       "      <th>4</th>\n",
       "      <td>0</td>\n",
       "      <td>17</td>\n",
       "      <td>83</td>\n",
       "      <td>0</td>\n",
       "      <td>15</td>\n",
       "      <td>91</td>\n",
       "      <td>0</td>\n",
       "      <td>17</td>\n",
       "      <td>179</td>\n",
       "      <td>0</td>\n",
       "      <td>...</td>\n",
       "      <td>22</td>\n",
       "      <td>96</td>\n",
       "      <td>0</td>\n",
       "      <td>27</td>\n",
       "      <td>88</td>\n",
       "      <td>0</td>\n",
       "      <td>45</td>\n",
       "      <td>97</td>\n",
       "      <td>0</td>\n",
       "      <td>0</td>\n",
       "    </tr>\n",
       "  </tbody>\n",
       "</table>\n",
       "<p>5 rows × 1025 columns</p>\n",
       "</div>"
      ],
      "text/plain": [
       "    1   2   3   4   5   6   7   8    9  10  ...  1016  1017  1018  1019  1020  \\\n",
       "0  82   0  24  77   0  16  79  16   28  45  ...     0    19   173     5    23   \n",
       "1   0  18  79   0  20  67   4  22   67   0  ...    20    83     0    20    81   \n",
       "2  20  75   0  20  86   0  17  90    0  15  ...   114     0    34   102     6   \n",
       "3  81   0  28  69   1  28  60  14   58  62  ...     4    27    67     2    63   \n",
       "4   0  17  83   0  15  91   0  17  179   0  ...    22    96     0    27    88   \n",
       "\n",
       "   1021  1022  1023  1024  CLASS  \n",
       "0    56     0    26    62      0  \n",
       "1     0    21    60     0      0  \n",
       "2    60    86     0    39      0  \n",
       "3    84     0    25    83      0  \n",
       "4     0    45    97     0      0  \n",
       "\n",
       "[5 rows x 1025 columns]"
      ]
     },
     "execution_count": 9,
     "metadata": {},
     "output_type": "execute_result"
    }
   ],
   "source": [
    "df = pd.read_csv('Three_Channels_EMG_DATA.csv')\n",
    "df.head()"
   ]
  },
  {
   "cell_type": "code",
   "execution_count": 10,
   "metadata": {},
   "outputs": [
    {
     "name": "stdout",
     "output_type": "stream",
     "text": [
      "(1701, 1025)\n"
     ]
    }
   ],
   "source": [
    "print(df.shape)"
   ]
  },
  {
   "cell_type": "code",
   "execution_count": 18,
   "metadata": {},
   "outputs": [
    {
     "data": {
      "text/html": [
       "<div>\n",
       "<style scoped>\n",
       "    .dataframe tbody tr th:only-of-type {\n",
       "        vertical-align: middle;\n",
       "    }\n",
       "\n",
       "    .dataframe tbody tr th {\n",
       "        vertical-align: top;\n",
       "    }\n",
       "\n",
       "    .dataframe thead th {\n",
       "        text-align: right;\n",
       "    }\n",
       "</style>\n",
       "<table border=\"1\" class=\"dataframe\">\n",
       "  <thead>\n",
       "    <tr style=\"text-align: right;\">\n",
       "      <th></th>\n",
       "      <th>1</th>\n",
       "      <th>2</th>\n",
       "      <th>3</th>\n",
       "      <th>4</th>\n",
       "      <th>5</th>\n",
       "      <th>6</th>\n",
       "      <th>7</th>\n",
       "      <th>8</th>\n",
       "      <th>9</th>\n",
       "      <th>10</th>\n",
       "      <th>...</th>\n",
       "      <th>1015</th>\n",
       "      <th>1016</th>\n",
       "      <th>1017</th>\n",
       "      <th>1018</th>\n",
       "      <th>1019</th>\n",
       "      <th>1020</th>\n",
       "      <th>1021</th>\n",
       "      <th>1022</th>\n",
       "      <th>1023</th>\n",
       "      <th>1024</th>\n",
       "    </tr>\n",
       "  </thead>\n",
       "  <tbody>\n",
       "    <tr>\n",
       "      <th>0</th>\n",
       "      <td>82</td>\n",
       "      <td>0</td>\n",
       "      <td>24</td>\n",
       "      <td>77</td>\n",
       "      <td>0</td>\n",
       "      <td>16</td>\n",
       "      <td>79</td>\n",
       "      <td>16</td>\n",
       "      <td>28</td>\n",
       "      <td>45</td>\n",
       "      <td>...</td>\n",
       "      <td>63</td>\n",
       "      <td>0</td>\n",
       "      <td>19</td>\n",
       "      <td>173</td>\n",
       "      <td>5</td>\n",
       "      <td>23</td>\n",
       "      <td>56</td>\n",
       "      <td>0</td>\n",
       "      <td>26</td>\n",
       "      <td>62</td>\n",
       "    </tr>\n",
       "    <tr>\n",
       "      <th>1</th>\n",
       "      <td>0</td>\n",
       "      <td>18</td>\n",
       "      <td>79</td>\n",
       "      <td>0</td>\n",
       "      <td>20</td>\n",
       "      <td>67</td>\n",
       "      <td>4</td>\n",
       "      <td>22</td>\n",
       "      <td>67</td>\n",
       "      <td>0</td>\n",
       "      <td>...</td>\n",
       "      <td>0</td>\n",
       "      <td>20</td>\n",
       "      <td>83</td>\n",
       "      <td>0</td>\n",
       "      <td>20</td>\n",
       "      <td>81</td>\n",
       "      <td>0</td>\n",
       "      <td>21</td>\n",
       "      <td>60</td>\n",
       "      <td>0</td>\n",
       "    </tr>\n",
       "    <tr>\n",
       "      <th>2</th>\n",
       "      <td>20</td>\n",
       "      <td>75</td>\n",
       "      <td>0</td>\n",
       "      <td>20</td>\n",
       "      <td>86</td>\n",
       "      <td>0</td>\n",
       "      <td>17</td>\n",
       "      <td>90</td>\n",
       "      <td>0</td>\n",
       "      <td>15</td>\n",
       "      <td>...</td>\n",
       "      <td>25</td>\n",
       "      <td>114</td>\n",
       "      <td>0</td>\n",
       "      <td>34</td>\n",
       "      <td>102</td>\n",
       "      <td>6</td>\n",
       "      <td>60</td>\n",
       "      <td>86</td>\n",
       "      <td>0</td>\n",
       "      <td>39</td>\n",
       "    </tr>\n",
       "    <tr>\n",
       "      <th>3</th>\n",
       "      <td>81</td>\n",
       "      <td>0</td>\n",
       "      <td>28</td>\n",
       "      <td>69</td>\n",
       "      <td>1</td>\n",
       "      <td>28</td>\n",
       "      <td>60</td>\n",
       "      <td>14</td>\n",
       "      <td>58</td>\n",
       "      <td>62</td>\n",
       "      <td>...</td>\n",
       "      <td>72</td>\n",
       "      <td>4</td>\n",
       "      <td>27</td>\n",
       "      <td>67</td>\n",
       "      <td>2</td>\n",
       "      <td>63</td>\n",
       "      <td>84</td>\n",
       "      <td>0</td>\n",
       "      <td>25</td>\n",
       "      <td>83</td>\n",
       "    </tr>\n",
       "    <tr>\n",
       "      <th>4</th>\n",
       "      <td>0</td>\n",
       "      <td>17</td>\n",
       "      <td>83</td>\n",
       "      <td>0</td>\n",
       "      <td>15</td>\n",
       "      <td>91</td>\n",
       "      <td>0</td>\n",
       "      <td>17</td>\n",
       "      <td>179</td>\n",
       "      <td>0</td>\n",
       "      <td>...</td>\n",
       "      <td>0</td>\n",
       "      <td>22</td>\n",
       "      <td>96</td>\n",
       "      <td>0</td>\n",
       "      <td>27</td>\n",
       "      <td>88</td>\n",
       "      <td>0</td>\n",
       "      <td>45</td>\n",
       "      <td>97</td>\n",
       "      <td>0</td>\n",
       "    </tr>\n",
       "  </tbody>\n",
       "</table>\n",
       "<p>5 rows × 1024 columns</p>\n",
       "</div>"
      ],
      "text/plain": [
       "    1   2   3   4   5   6   7   8    9  10  ...  1015  1016  1017  1018  1019  \\\n",
       "0  82   0  24  77   0  16  79  16   28  45  ...    63     0    19   173     5   \n",
       "1   0  18  79   0  20  67   4  22   67   0  ...     0    20    83     0    20   \n",
       "2  20  75   0  20  86   0  17  90    0  15  ...    25   114     0    34   102   \n",
       "3  81   0  28  69   1  28  60  14   58  62  ...    72     4    27    67     2   \n",
       "4   0  17  83   0  15  91   0  17  179   0  ...     0    22    96     0    27   \n",
       "\n",
       "   1020  1021  1022  1023  1024  \n",
       "0    23    56     0    26    62  \n",
       "1    81     0    21    60     0  \n",
       "2     6    60    86     0    39  \n",
       "3    63    84     0    25    83  \n",
       "4    88     0    45    97     0  \n",
       "\n",
       "[5 rows x 1024 columns]"
      ]
     },
     "execution_count": 18,
     "metadata": {},
     "output_type": "execute_result"
    }
   ],
   "source": [
    "features = df.drop(columns=[\"CLASS\"])\n",
    "features.head()"
   ]
  },
  {
   "cell_type": "code",
   "execution_count": 19,
   "metadata": {},
   "outputs": [
    {
     "name": "stdout",
     "output_type": "stream",
     "text": [
      "(1701, 1024)\n"
     ]
    }
   ],
   "source": [
    "print (features.shape)"
   ]
  },
  {
   "cell_type": "code",
   "execution_count": 20,
   "metadata": {},
   "outputs": [
    {
     "name": "stdout",
     "output_type": "stream",
     "text": [
      "(1701,)\n",
      "class : [0 1 2 3 4]\n",
      "Value Count :\n",
      " 0    358\n",
      "3    345\n",
      "4    344\n",
      "2    328\n",
      "1    326\n",
      "Name: CLASS, dtype: int64\n"
     ]
    }
   ],
   "source": [
    "Classes = df[\"CLASS\"]\n",
    "print(Classes.shape)\n",
    "print(\"class :\", Classes.unique())\n",
    "print(\"Value Count :\\n\",Classes.value_counts())"
   ]
  },
  {
   "cell_type": "code",
   "execution_count": 75,
   "metadata": {
    "scrolled": false
   },
   "outputs": [
    {
     "name": "stdout",
     "output_type": "stream",
     "text": [
      "(1701, 32, 32, 1)\n"
     ]
    }
   ],
   "source": [
    "features_2D = features.to_numpy().reshape(1701, 32, 32, 1)\n",
    "\n",
    "print (features_2D.shape)"
   ]
  },
  {
   "cell_type": "code",
   "execution_count": 22,
   "metadata": {},
   "outputs": [
    {
     "data": {
      "text/plain": [
       "723"
      ]
     },
     "execution_count": 22,
     "metadata": {},
     "output_type": "execute_result"
    }
   ],
   "source": [
    "features_2D.max()"
   ]
  },
  {
   "cell_type": "code",
   "execution_count": 23,
   "metadata": {},
   "outputs": [
    {
     "data": {
      "text/plain": [
       "1.0"
      ]
     },
     "execution_count": 23,
     "metadata": {},
     "output_type": "execute_result"
    }
   ],
   "source": [
    "features_2D = features_2D /723.0\n",
    "features_2D.max()"
   ]
  },
  {
   "cell_type": "code",
   "execution_count": 24,
   "metadata": {},
   "outputs": [],
   "source": [
    "from sklearn.model_selection import train_test_split\n",
    "# 80 and 20\n",
    "x_train, x_test, y_train, y_test = train_test_split(features_2D, Classes, test_size=0.2, random_state=1)"
   ]
  },
  {
   "cell_type": "code",
   "execution_count": 25,
   "metadata": {},
   "outputs": [
    {
     "name": "stdout",
     "output_type": "stream",
     "text": [
      "(1360, 32, 32, 1)\n",
      "(1360,)\n",
      "(341, 32, 32, 1)\n",
      "(341,)\n"
     ]
    }
   ],
   "source": [
    "print (x_train.shape)\n",
    "print (y_train.shape)\n",
    "\n",
    "print (x_test.shape)\n",
    "print (y_test.shape)"
   ]
  },
  {
   "cell_type": "code",
   "execution_count": 26,
   "metadata": {},
   "outputs": [
    {
     "name": "stdout",
     "output_type": "stream",
     "text": [
      "(1360, 32, 32, 1)\n",
      "(1360, 5)\n",
      "(341, 32, 32, 1)\n",
      "(341, 5)\n"
     ]
    }
   ],
   "source": [
    "# one hot encoding Labels\n",
    "y_train = tf.keras.utils.to_categorical(y_train)\n",
    "y_test = tf.keras.utils.to_categorical(y_test)\n",
    "\n",
    "\n",
    "print (x_train.shape)\n",
    "print (y_train.shape)\n",
    "\n",
    "print (x_test.shape)\n",
    "print (y_test.shape)"
   ]
  },
  {
   "cell_type": "code",
   "execution_count": 2,
   "metadata": {},
   "outputs": [
    {
     "name": "stdout",
     "output_type": "stream",
     "text": [
      "Model: \"sequential\"\n",
      "_________________________________________________________________\n",
      "Layer (type)                 Output Shape              Param #   \n",
      "=================================================================\n",
      "conv2d (Conv2D)              (None, 30, 30, 8)         80        \n",
      "_________________________________________________________________\n",
      "max_pooling2d (MaxPooling2D) (None, 15, 15, 8)         0         \n",
      "_________________________________________________________________\n",
      "conv2d_1 (Conv2D)            (None, 13, 13, 16)        1168      \n",
      "_________________________________________________________________\n",
      "max_pooling2d_1 (MaxPooling2 (None, 7, 7, 16)          0         \n",
      "_________________________________________________________________\n",
      "conv2d_2 (Conv2D)            (None, 5, 5, 64)          9280      \n",
      "_________________________________________________________________\n",
      "max_pooling2d_2 (MaxPooling2 (None, 3, 3, 64)          0         \n",
      "_________________________________________________________________\n",
      "flatten (Flatten)            (None, 576)               0         \n",
      "_________________________________________________________________\n",
      "dense (Dense)                (None, 256)               147712    \n",
      "_________________________________________________________________\n",
      "dense_1 (Dense)              (None, 5)                 1285      \n",
      "=================================================================\n",
      "Total params: 159,525\n",
      "Trainable params: 159,525\n",
      "Non-trainable params: 0\n",
      "_________________________________________________________________\n"
     ]
    }
   ],
   "source": [
    "model = tf.keras.models.Sequential([\n",
    "    # the input shape is the size of the image from ImageDataGenerator, 150x150 with 3 bytes color\n",
    "    tf.keras.layers.Conv2D(8, (3,3), activation='relu', input_shape=(32, 32, 1)),\n",
    "    tf.keras.layers.MaxPooling2D(2,2,padding='same'),\n",
    "    \n",
    "    tf.keras.layers.Conv2D(16, (3,3), activation='relu'),\n",
    "    tf.keras.layers.MaxPooling2D(2,2,padding='same'), \n",
    "    \n",
    "    tf.keras.layers.Conv2D(64, (3,3), activation='relu'), \n",
    "    tf.keras.layers.MaxPooling2D(2,2,padding='same'),\n",
    "    \n",
    "    # Flatten the results to feed into a DNN\n",
    "    tf.keras.layers.Flatten(), \n",
    "    # 128 neuron hidden layer\n",
    "    tf.keras.layers.Dense(256, activation='relu'), \n",
    "    # Only 1 output neuron. It will contain a value from 0-1 where 0 for 1 class ('cats') and 1 for the other ('dogs')\n",
    "    tf.keras.layers.Dense(5, activation='softmax')  \n",
    "])\n",
    "\n",
    "model.summary()"
   ]
  },
  {
   "cell_type": "code",
   "execution_count": 3,
   "metadata": {
    "scrolled": true
   },
   "outputs": [
    {
     "data": {
      "image/png": "[encoded data removed]",
      "text/plain": [
       "<IPython.core.display.Image object>"
      ]
     },
     "execution_count": 3,
     "metadata": {},
     "output_type": "execute_result"
    }
   ],
   "source": [
    "dot_img_file = '/tmp/model_1.png'\n",
    "\n",
    "tf.keras.utils.plot_model(model, to_file=dot_img_file, show_shapes=True)"
   ]
  },
  {
   "cell_type": "code",
   "execution_count": 65,
   "metadata": {},
   "outputs": [],
   "source": [
    "from tensorflow.keras.optimizers import Adam\n",
    "\n",
    "model.compile(optimizer=Adam(lr=0.001),\n",
    "              loss='binary_crossentropy',\n",
    "              metrics = ['accuracy'])"
   ]
  },
  {
   "cell_type": "code",
   "execution_count": 66,
   "metadata": {},
   "outputs": [
    {
     "name": "stdout",
     "output_type": "stream",
     "text": [
      "Epoch 1/30\n",
      "5/5 [==============================] - 1s 103ms/step - loss: 0.6682 - accuracy: 0.2313 - val_loss: 0.5840 - val_accuracy: 0.4047\n",
      "Epoch 2/30\n",
      "5/5 [==============================] - 0s 71ms/step - loss: 0.5536 - accuracy: 0.2821 - val_loss: 0.5049 - val_accuracy: 0.2199\n",
      "Epoch 3/30\n",
      "5/5 [==============================] - 0s 72ms/step - loss: 0.5144 - accuracy: 0.2128 - val_loss: 0.4961 - val_accuracy: 0.3812\n",
      "Epoch 4/30\n",
      "5/5 [==============================] - 0s 73ms/step - loss: 0.4901 - accuracy: 0.3996 - val_loss: 0.4839 - val_accuracy: 0.3900\n",
      "Epoch 5/30\n",
      "5/5 [==============================] - 0s 74ms/step - loss: 0.4805 - accuracy: 0.3984 - val_loss: 0.4572 - val_accuracy: 0.3900\n",
      "Epoch 6/30\n",
      "5/5 [==============================] - 0s 71ms/step - loss: 0.4478 - accuracy: 0.3961 - val_loss: 0.4137 - val_accuracy: 0.5425\n",
      "Epoch 7/30\n",
      "5/5 [==============================] - 0s 71ms/step - loss: 0.4045 - accuracy: 0.5799 - val_loss: 0.3706 - val_accuracy: 0.5601\n",
      "Epoch 8/30\n",
      "5/5 [==============================] - 0s 72ms/step - loss: 0.3625 - accuracy: 0.5526 - val_loss: 0.3343 - val_accuracy: 0.7185\n",
      "Epoch 9/30\n",
      "5/5 [==============================] - 0s 72ms/step - loss: 0.3290 - accuracy: 0.7608 - val_loss: 0.2993 - val_accuracy: 0.8387\n",
      "Epoch 10/30\n",
      "5/5 [==============================] - 0s 72ms/step - loss: 0.2954 - accuracy: 0.8682 - val_loss: 0.2661 - val_accuracy: 0.9326\n",
      "Epoch 11/30\n",
      "5/5 [==============================] - 0s 71ms/step - loss: 0.2647 - accuracy: 0.9535 - val_loss: 0.2314 - val_accuracy: 0.9179\n",
      "Epoch 12/30\n",
      "5/5 [==============================] - 0s 72ms/step - loss: 0.2299 - accuracy: 0.9276 - val_loss: 0.1974 - val_accuracy: 0.9707\n",
      "Epoch 13/30\n",
      "5/5 [==============================] - 0s 71ms/step - loss: 0.1937 - accuracy: 0.9772 - val_loss: 0.1665 - val_accuracy: 0.9677\n",
      "Epoch 14/30\n",
      "5/5 [==============================] - 0s 73ms/step - loss: 0.1604 - accuracy: 0.9649 - val_loss: 0.1412 - val_accuracy: 0.9589\n",
      "Epoch 15/30\n",
      "5/5 [==============================] - 0s 71ms/step - loss: 0.1327 - accuracy: 0.9705 - val_loss: 0.1212 - val_accuracy: 0.9443\n",
      "Epoch 16/30\n",
      "5/5 [==============================] - 0s 72ms/step - loss: 0.1102 - accuracy: 0.9772 - val_loss: 0.0976 - val_accuracy: 0.9677\n",
      "Epoch 17/30\n",
      "5/5 [==============================] - 0s 72ms/step - loss: 0.0894 - accuracy: 0.9787 - val_loss: 0.0802 - val_accuracy: 0.9765\n",
      "Epoch 18/30\n",
      "5/5 [==============================] - 0s 71ms/step - loss: 0.0730 - accuracy: 0.9808 - val_loss: 0.0661 - val_accuracy: 0.9795\n",
      "Epoch 19/30\n",
      "5/5 [==============================] - 0s 73ms/step - loss: 0.0619 - accuracy: 0.9789 - val_loss: 0.0563 - val_accuracy: 0.9795\n",
      "Epoch 20/30\n",
      "5/5 [==============================] - 0s 73ms/step - loss: 0.0514 - accuracy: 0.9827 - val_loss: 0.0512 - val_accuracy: 0.9765\n",
      "Epoch 21/30\n",
      "5/5 [==============================] - 0s 72ms/step - loss: 0.0435 - accuracy: 0.9837 - val_loss: 0.0445 - val_accuracy: 0.9795\n",
      "Epoch 22/30\n",
      "5/5 [==============================] - 0s 70ms/step - loss: 0.0363 - accuracy: 0.9833 - val_loss: 0.0383 - val_accuracy: 0.9824\n",
      "Epoch 23/30\n",
      "5/5 [==============================] - 0s 75ms/step - loss: 0.0322 - accuracy: 0.9921 - val_loss: 0.0342 - val_accuracy: 0.9853\n",
      "Epoch 24/30\n",
      "5/5 [==============================] - 0s 72ms/step - loss: 0.0346 - accuracy: 0.9816 - val_loss: 0.0318 - val_accuracy: 0.9883\n",
      "Epoch 25/30\n",
      "5/5 [==============================] - 0s 73ms/step - loss: 0.0276 - accuracy: 0.9868 - val_loss: 0.0299 - val_accuracy: 0.9824\n",
      "Epoch 26/30\n",
      "5/5 [==============================] - 0s 73ms/step - loss: 0.0225 - accuracy: 0.9926 - val_loss: 0.0329 - val_accuracy: 0.9765\n",
      "Epoch 27/30\n",
      "5/5 [==============================] - 0s 72ms/step - loss: 0.0211 - accuracy: 0.9896 - val_loss: 0.0345 - val_accuracy: 0.9765\n",
      "Epoch 28/30\n",
      "5/5 [==============================] - 0s 71ms/step - loss: 0.0229 - accuracy: 0.9843 - val_loss: 0.0227 - val_accuracy: 0.9883\n",
      "Epoch 29/30\n",
      "5/5 [==============================] - 0s 73ms/step - loss: 0.0185 - accuracy: 0.9882 - val_loss: 0.0267 - val_accuracy: 0.9853\n",
      "Epoch 30/30\n",
      "5/5 [==============================] - 0s 71ms/step - loss: 0.0230 - accuracy: 0.9898 - val_loss: 0.0213 - val_accuracy: 0.9883\n"
     ]
    }
   ],
   "source": [
    "history = model.fit(x_train, y_train,\n",
    "                    validation_data=(x_test, y_test),\n",
    "                    steps_per_epoch=5,\n",
    "                    epochs=30,\n",
    "                    validation_steps=1)"
   ]
  },
  {
   "cell_type": "code",
   "execution_count": 67,
   "metadata": {},
   "outputs": [
    {
     "data": {
      "text/plain": [
       "Text(0.5, 1.0, 'Training and validation loss')"
      ]
     },
     "execution_count": 67,
     "metadata": {},
     "output_type": "execute_result"
    },
    {
     "data": {
      "image/png": "[encoded data removed]",
      "text/plain": [
       "<Figure size 432x288 with 1 Axes>"
      ]
     },
     "metadata": {
      "needs_background": "light"
     },
     "output_type": "display_data"
    },
    {
     "data": {
      "image/png": "[encoded data removed]",
      "text/plain": [
       "<Figure size 432x288 with 1 Axes>"
      ]
     },
     "metadata": {
      "needs_background": "light"
     },
     "output_type": "display_data"
    }
   ],
   "source": [
    "# Retrieve a list of list results on training and test data\n",
    "# sets for each training epoch\n",
    "acc      = history.history[     'accuracy' ]\n",
    "val_acc  = history.history[ 'val_accuracy' ]\n",
    "loss     = history.history[    'loss' ]\n",
    "val_loss = history.history['val_loss' ]\n",
    "\n",
    "epochs   = range(len(acc)) # Get number of epochs\n",
    "\n",
    "# Plot training and validation accuracy per epoch\n",
    "plt.plot  ( epochs,     acc )\n",
    "plt.plot  ( epochs, val_acc )\n",
    "plt.title ('Training and validation accuracy')\n",
    "plt.figure()\n",
    "\n",
    "# Plot training and validation loss per epoch\n",
    "plt.plot  ( epochs,     loss )\n",
    "plt.plot  ( epochs, val_loss )\n",
    "plt.title ('Training and validation loss'   )"
   ]
  },
  {
   "cell_type": "code",
   "execution_count": 68,
   "metadata": {},
   "outputs": [
    {
     "name": "stdout",
     "output_type": "stream",
     "text": [
      "86/86 [==============================] - 0s 2ms/step - loss: 0.0213 - accuracy: 0.9883\n",
      "Test loss : 0.02128930762410164\n",
      "Test accuracy : 98.82698059082031 %\n"
     ]
    }
   ],
   "source": [
    "loss, acc = model.evaluate(x_test, y_test, batch_size = 4)\n",
    "print(\"Test loss :\",loss)\n",
    "print(\"Test accuracy :\",acc*100,\"%\")"
   ]
  },
  {
   "cell_type": "code",
   "execution_count": 69,
   "metadata": {},
   "outputs": [
    {
     "name": "stdout",
     "output_type": "stream",
     "text": [
      "Predicted Class:  [0. 0. 0. 0. 1.]\n",
      "Actual Class:  [0. 0. 0. 0. 1.]\n",
      "--- 0.1391615867614746 seconds ---\n"
     ]
    }
   ],
   "source": [
    "import time\n",
    "start_time = time.time()\n",
    "\n",
    "print(\"Predicted Class: \", np.round(model.predict(x_test)[0]))\n",
    "print(\"Actual Class: \", (y_test[0]))\n",
    "\n",
    "\n",
    "print(\"--- %s seconds ---\" % (time.time() - start_time))"
   ]
  },
  {
   "cell_type": "markdown",
   "metadata": {},
   "source": [
    "# Test in real time"
   ]
  },
  {
   "cell_type": "code",
   "execution_count": 36,
   "metadata": {},
   "outputs": [],
   "source": [
    "import time\n",
    "import numpy as np\n",
    "import serial \n",
    "from scipy.fftpack import fft\n",
    "\n",
    "from IPython.display import clear_output\n"
   ]
  },
  {
   "cell_type": "code",
   "execution_count": null,
   "metadata": {},
   "outputs": [],
   "source": [
    "arduinoData = serial.Serial('/dev/ttyACM0', 115200, timeout=1, rtscts=True)\n",
    "\n",
    "while True:\n",
    "    \n",
    "    x = np.array([1024,])\n",
    "    for i in range(1023):\n",
    "        #x = np.empty(shape = 150,dtype = int)\n",
    "        data = (int(arduinoData.readline().decode('ascii')))\n",
    "        x = np.append(x,data) \n",
    "    \n",
    "    x = x.reshape (-1,32,32,1)\n",
    "    x = x/x.max()\n",
    "    #print (x [0][0][0])\n",
    "    print(\"Predicted Class: \", np.round(model.predict(x)))\n",
    "    clear_output(wait=True)"
   ]
  },
  {
   "cell_type": "code",
   "execution_count": null,
   "metadata": {},
   "outputs": [],
   "source": []
  },
  {
   "cell_type": "code",
   "execution_count": null,
   "metadata": {},
   "outputs": [],
   "source": []
  }
 ],
 "metadata": {
  "kernelspec": {
   "display_name": "Python 3",
   "language": "python",
   "name": "python3"
  },
  "language_info": {
   "codemirror_mode": {
    "name": "ipython",
    "version": 3
   },
   "file_extension": ".py",
   "mimetype": "text/x-python",
   "name": "python",
   "nbconvert_exporter": "python",
   "pygments_lexer": "ipython3",
   "version": "3.8.10"
  }
 },
 "nbformat": 4,
 "nbformat_minor": 4
}
